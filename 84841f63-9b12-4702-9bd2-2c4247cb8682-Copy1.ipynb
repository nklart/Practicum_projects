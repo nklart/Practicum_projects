{
 "cells": [
  {
   "cell_type": "markdown",
   "id": "905988aa",
   "metadata": {},
   "source": [
    "# Проект: Статистический анализ данных"
   ]
  },
  {
   "cell_type": "markdown",
   "id": "75edde0a",
   "metadata": {},
   "source": [
    "    Вы аналитик популярного сервиса аренды самокатов GoFast. Вам передали данные о некоторых пользователях из нескольких городов, а также об их поездках."
   ]
  },
  {
   "cell_type": "markdown",
   "id": "0bdd6cda",
   "metadata": {},
   "source": [
    "**Цель исследования:** "
   ]
  },
  {
   "cell_type": "markdown",
   "id": "c682617d",
   "metadata": {},
   "source": [
    "    Проанализировать данные и проверить некоторые гипотезы, которые могут помочь бизнесу вырасти."
   ]
  },
  {
   "cell_type": "markdown",
   "id": "da0ff181",
   "metadata": {},
   "source": [
    "**Ход исследования:**"
   ]
  },
  {
   "cell_type": "markdown",
   "id": "bd61dbaa",
   "metadata": {},
   "source": [
    "    Нам предоставили 3 таблицы: информация о пользователях, информация о поездках и информация о подписках. Для начала загрузим данные, предобработаем и проанализируем их на наличие пропусков и дубликатов."
   ]
  },
  {
   "cell_type": "markdown",
   "id": "7edcdc70",
   "metadata": {},
   "source": [
    "    На следующем шаге мы объединим таблицы в одну и выделим еще две таблицы: с информацией о поездках пользователей с подпиской и информацией о поездках пользователей без подписки"
   ]
  },
  {
   "cell_type": "markdown",
   "id": "a56142f3",
   "metadata": {},
   "source": [
    "    После чего подсчитаем выручку, которую принес каждый пользователь за каждый месяц.    "
   ]
  },
  {
   "cell_type": "markdown",
   "id": "c30dcb2a",
   "metadata": {},
   "source": [
    "    И на последнем шаге проверим некоторые гипотезы, после чего сделаем общий вывод."
   ]
  },
  {
   "cell_type": "markdown",
   "id": "ff00977d",
   "metadata": {},
   "source": [
    "# Приступим к работе."
   ]
  },
  {
   "cell_type": "code",
   "execution_count": 1,
   "id": "72576667",
   "metadata": {},
   "outputs": [],
   "source": [
    "import pandas as pd\n",
    "import numpy as np\n",
    "import matplotlib.pyplot as plt\n",
    "from scipy import stats as st"
   ]
  },
  {
   "cell_type": "markdown",
   "id": "c42cbe00",
   "metadata": {},
   "source": [
    "#### Шаг 1. Загрузка данных"
   ]
  },
  {
   "cell_type": "code",
   "execution_count": 2,
   "id": "eff9f206",
   "metadata": {},
   "outputs": [],
   "source": [
    "users_go = pd.read_csv('/datasets/users_go.csv')\n",
    "rides_go = pd.read_csv('/datasets/rides_go.csv')\n",
    "subscriptions_go = pd.read_csv('/datasets/subscriptions_go.csv')\n"
   ]
  },
  {
   "cell_type": "code",
   "execution_count": 3,
   "id": "0e40b102",
   "metadata": {},
   "outputs": [
    {
     "data": {
      "text/html": [
       "<div>\n",
       "<style scoped>\n",
       "    .dataframe tbody tr th:only-of-type {\n",
       "        vertical-align: middle;\n",
       "    }\n",
       "\n",
       "    .dataframe tbody tr th {\n",
       "        vertical-align: top;\n",
       "    }\n",
       "\n",
       "    .dataframe thead th {\n",
       "        text-align: right;\n",
       "    }\n",
       "</style>\n",
       "<table border=\"1\" class=\"dataframe\">\n",
       "  <thead>\n",
       "    <tr style=\"text-align: right;\">\n",
       "      <th></th>\n",
       "      <th>user_id</th>\n",
       "      <th>name</th>\n",
       "      <th>age</th>\n",
       "      <th>city</th>\n",
       "      <th>subscription_type</th>\n",
       "    </tr>\n",
       "  </thead>\n",
       "  <tbody>\n",
       "    <tr>\n",
       "      <th>0</th>\n",
       "      <td>1</td>\n",
       "      <td>Кира</td>\n",
       "      <td>22</td>\n",
       "      <td>Тюмень</td>\n",
       "      <td>ultra</td>\n",
       "    </tr>\n",
       "    <tr>\n",
       "      <th>1</th>\n",
       "      <td>2</td>\n",
       "      <td>Станислав</td>\n",
       "      <td>31</td>\n",
       "      <td>Омск</td>\n",
       "      <td>ultra</td>\n",
       "    </tr>\n",
       "    <tr>\n",
       "      <th>2</th>\n",
       "      <td>3</td>\n",
       "      <td>Алексей</td>\n",
       "      <td>20</td>\n",
       "      <td>Москва</td>\n",
       "      <td>ultra</td>\n",
       "    </tr>\n",
       "    <tr>\n",
       "      <th>3</th>\n",
       "      <td>4</td>\n",
       "      <td>Константин</td>\n",
       "      <td>26</td>\n",
       "      <td>Ростов-на-Дону</td>\n",
       "      <td>ultra</td>\n",
       "    </tr>\n",
       "    <tr>\n",
       "      <th>4</th>\n",
       "      <td>5</td>\n",
       "      <td>Адель</td>\n",
       "      <td>28</td>\n",
       "      <td>Омск</td>\n",
       "      <td>ultra</td>\n",
       "    </tr>\n",
       "    <tr>\n",
       "      <th>...</th>\n",
       "      <td>...</td>\n",
       "      <td>...</td>\n",
       "      <td>...</td>\n",
       "      <td>...</td>\n",
       "      <td>...</td>\n",
       "    </tr>\n",
       "    <tr>\n",
       "      <th>1560</th>\n",
       "      <td>829</td>\n",
       "      <td>Федор</td>\n",
       "      <td>29</td>\n",
       "      <td>Пятигорск</td>\n",
       "      <td>free</td>\n",
       "    </tr>\n",
       "    <tr>\n",
       "      <th>1561</th>\n",
       "      <td>809</td>\n",
       "      <td>Юрий</td>\n",
       "      <td>26</td>\n",
       "      <td>Сочи</td>\n",
       "      <td>free</td>\n",
       "    </tr>\n",
       "    <tr>\n",
       "      <th>1562</th>\n",
       "      <td>307</td>\n",
       "      <td>Ясмина</td>\n",
       "      <td>19</td>\n",
       "      <td>Краснодар</td>\n",
       "      <td>ultra</td>\n",
       "    </tr>\n",
       "    <tr>\n",
       "      <th>1563</th>\n",
       "      <td>47</td>\n",
       "      <td>Юрий</td>\n",
       "      <td>28</td>\n",
       "      <td>Тюмень</td>\n",
       "      <td>ultra</td>\n",
       "    </tr>\n",
       "    <tr>\n",
       "      <th>1564</th>\n",
       "      <td>1045</td>\n",
       "      <td>Артемий</td>\n",
       "      <td>28</td>\n",
       "      <td>Ростов-на-Дону</td>\n",
       "      <td>free</td>\n",
       "    </tr>\n",
       "  </tbody>\n",
       "</table>\n",
       "<p>1565 rows × 5 columns</p>\n",
       "</div>"
      ],
      "text/plain": [
       "      user_id        name  age            city subscription_type\n",
       "0           1        Кира   22          Тюмень             ultra\n",
       "1           2   Станислав   31            Омск             ultra\n",
       "2           3     Алексей   20          Москва             ultra\n",
       "3           4  Константин   26  Ростов-на-Дону             ultra\n",
       "4           5       Адель   28            Омск             ultra\n",
       "...       ...         ...  ...             ...               ...\n",
       "1560      829       Федор   29       Пятигорск              free\n",
       "1561      809        Юрий   26            Сочи              free\n",
       "1562      307      Ясмина   19       Краснодар             ultra\n",
       "1563       47        Юрий   28          Тюмень             ultra\n",
       "1564     1045     Артемий   28  Ростов-на-Дону              free\n",
       "\n",
       "[1565 rows x 5 columns]"
      ]
     },
     "metadata": {},
     "output_type": "display_data"
    },
    {
     "data": {
      "text/html": [
       "<div>\n",
       "<style scoped>\n",
       "    .dataframe tbody tr th:only-of-type {\n",
       "        vertical-align: middle;\n",
       "    }\n",
       "\n",
       "    .dataframe tbody tr th {\n",
       "        vertical-align: top;\n",
       "    }\n",
       "\n",
       "    .dataframe thead th {\n",
       "        text-align: right;\n",
       "    }\n",
       "</style>\n",
       "<table border=\"1\" class=\"dataframe\">\n",
       "  <thead>\n",
       "    <tr style=\"text-align: right;\">\n",
       "      <th></th>\n",
       "      <th>user_id</th>\n",
       "      <th>distance</th>\n",
       "      <th>duration</th>\n",
       "      <th>date</th>\n",
       "    </tr>\n",
       "  </thead>\n",
       "  <tbody>\n",
       "    <tr>\n",
       "      <th>0</th>\n",
       "      <td>1</td>\n",
       "      <td>4409.919140</td>\n",
       "      <td>25.599769</td>\n",
       "      <td>2021-01-01</td>\n",
       "    </tr>\n",
       "    <tr>\n",
       "      <th>1</th>\n",
       "      <td>1</td>\n",
       "      <td>2617.592153</td>\n",
       "      <td>15.816871</td>\n",
       "      <td>2021-01-18</td>\n",
       "    </tr>\n",
       "    <tr>\n",
       "      <th>2</th>\n",
       "      <td>1</td>\n",
       "      <td>754.159807</td>\n",
       "      <td>6.232113</td>\n",
       "      <td>2021-04-20</td>\n",
       "    </tr>\n",
       "    <tr>\n",
       "      <th>3</th>\n",
       "      <td>1</td>\n",
       "      <td>2694.783254</td>\n",
       "      <td>18.511000</td>\n",
       "      <td>2021-08-11</td>\n",
       "    </tr>\n",
       "    <tr>\n",
       "      <th>4</th>\n",
       "      <td>1</td>\n",
       "      <td>4028.687306</td>\n",
       "      <td>26.265803</td>\n",
       "      <td>2021-08-28</td>\n",
       "    </tr>\n",
       "    <tr>\n",
       "      <th>...</th>\n",
       "      <td>...</td>\n",
       "      <td>...</td>\n",
       "      <td>...</td>\n",
       "      <td>...</td>\n",
       "    </tr>\n",
       "    <tr>\n",
       "      <th>18063</th>\n",
       "      <td>1534</td>\n",
       "      <td>3781.098080</td>\n",
       "      <td>19.822962</td>\n",
       "      <td>2021-11-04</td>\n",
       "    </tr>\n",
       "    <tr>\n",
       "      <th>18064</th>\n",
       "      <td>1534</td>\n",
       "      <td>2840.423057</td>\n",
       "      <td>21.409799</td>\n",
       "      <td>2021-11-16</td>\n",
       "    </tr>\n",
       "    <tr>\n",
       "      <th>18065</th>\n",
       "      <td>1534</td>\n",
       "      <td>3826.185507</td>\n",
       "      <td>18.435051</td>\n",
       "      <td>2021-11-18</td>\n",
       "    </tr>\n",
       "    <tr>\n",
       "      <th>18066</th>\n",
       "      <td>1534</td>\n",
       "      <td>2902.308661</td>\n",
       "      <td>16.674362</td>\n",
       "      <td>2021-11-27</td>\n",
       "    </tr>\n",
       "    <tr>\n",
       "      <th>18067</th>\n",
       "      <td>1534</td>\n",
       "      <td>2371.711192</td>\n",
       "      <td>15.893917</td>\n",
       "      <td>2021-12-29</td>\n",
       "    </tr>\n",
       "  </tbody>\n",
       "</table>\n",
       "<p>18068 rows × 4 columns</p>\n",
       "</div>"
      ],
      "text/plain": [
       "       user_id     distance   duration        date\n",
       "0            1  4409.919140  25.599769  2021-01-01\n",
       "1            1  2617.592153  15.816871  2021-01-18\n",
       "2            1   754.159807   6.232113  2021-04-20\n",
       "3            1  2694.783254  18.511000  2021-08-11\n",
       "4            1  4028.687306  26.265803  2021-08-28\n",
       "...        ...          ...        ...         ...\n",
       "18063     1534  3781.098080  19.822962  2021-11-04\n",
       "18064     1534  2840.423057  21.409799  2021-11-16\n",
       "18065     1534  3826.185507  18.435051  2021-11-18\n",
       "18066     1534  2902.308661  16.674362  2021-11-27\n",
       "18067     1534  2371.711192  15.893917  2021-12-29\n",
       "\n",
       "[18068 rows x 4 columns]"
      ]
     },
     "metadata": {},
     "output_type": "display_data"
    },
    {
     "data": {
      "text/html": [
       "<div>\n",
       "<style scoped>\n",
       "    .dataframe tbody tr th:only-of-type {\n",
       "        vertical-align: middle;\n",
       "    }\n",
       "\n",
       "    .dataframe tbody tr th {\n",
       "        vertical-align: top;\n",
       "    }\n",
       "\n",
       "    .dataframe thead th {\n",
       "        text-align: right;\n",
       "    }\n",
       "</style>\n",
       "<table border=\"1\" class=\"dataframe\">\n",
       "  <thead>\n",
       "    <tr style=\"text-align: right;\">\n",
       "      <th></th>\n",
       "      <th>subscription_type</th>\n",
       "      <th>minute_price</th>\n",
       "      <th>start_ride_price</th>\n",
       "      <th>subscription_fee</th>\n",
       "    </tr>\n",
       "  </thead>\n",
       "  <tbody>\n",
       "    <tr>\n",
       "      <th>0</th>\n",
       "      <td>free</td>\n",
       "      <td>8</td>\n",
       "      <td>50</td>\n",
       "      <td>0</td>\n",
       "    </tr>\n",
       "    <tr>\n",
       "      <th>1</th>\n",
       "      <td>ultra</td>\n",
       "      <td>6</td>\n",
       "      <td>0</td>\n",
       "      <td>199</td>\n",
       "    </tr>\n",
       "  </tbody>\n",
       "</table>\n",
       "</div>"
      ],
      "text/plain": [
       "  subscription_type  minute_price  start_ride_price  subscription_fee\n",
       "0              free             8                50                 0\n",
       "1             ultra             6                 0               199"
      ]
     },
     "metadata": {},
     "output_type": "display_data"
    }
   ],
   "source": [
    "display(users_go)\n",
    "display(rides_go)\n",
    "display(subscriptions_go)"
   ]
  },
  {
   "cell_type": "markdown",
   "id": "0d886332",
   "metadata": {},
   "source": [
    "**1.1 Изучим информацию о датафреймах**"
   ]
  },
  {
   "cell_type": "code",
   "execution_count": 4,
   "id": "d48bb4b5",
   "metadata": {},
   "outputs": [
    {
     "name": "stdout",
     "output_type": "stream",
     "text": [
      "<class 'pandas.core.frame.DataFrame'>\n",
      "RangeIndex: 1565 entries, 0 to 1564\n",
      "Data columns (total 5 columns):\n",
      " #   Column             Non-Null Count  Dtype \n",
      "---  ------             --------------  ----- \n",
      " 0   user_id            1565 non-null   int64 \n",
      " 1   name               1565 non-null   object\n",
      " 2   age                1565 non-null   int64 \n",
      " 3   city               1565 non-null   object\n",
      " 4   subscription_type  1565 non-null   object\n",
      "dtypes: int64(2), object(3)\n",
      "memory usage: 61.3+ KB\n",
      "None\n",
      "<class 'pandas.core.frame.DataFrame'>\n",
      "RangeIndex: 18068 entries, 0 to 18067\n",
      "Data columns (total 4 columns):\n",
      " #   Column    Non-Null Count  Dtype  \n",
      "---  ------    --------------  -----  \n",
      " 0   user_id   18068 non-null  int64  \n",
      " 1   distance  18068 non-null  float64\n",
      " 2   duration  18068 non-null  float64\n",
      " 3   date      18068 non-null  object \n",
      "dtypes: float64(2), int64(1), object(1)\n",
      "memory usage: 564.8+ KB\n",
      "None\n",
      "<class 'pandas.core.frame.DataFrame'>\n",
      "RangeIndex: 2 entries, 0 to 1\n",
      "Data columns (total 4 columns):\n",
      " #   Column             Non-Null Count  Dtype \n",
      "---  ------             --------------  ----- \n",
      " 0   subscription_type  2 non-null      object\n",
      " 1   minute_price       2 non-null      int64 \n",
      " 2   start_ride_price   2 non-null      int64 \n",
      " 3   subscription_fee   2 non-null      int64 \n",
      "dtypes: int64(3), object(1)\n",
      "memory usage: 192.0+ bytes\n",
      "None\n"
     ]
    }
   ],
   "source": [
    "print(users_go.info())\n",
    "print(rides_go.info())\n",
    "print(subscriptions_go.info())"
   ]
  },
  {
   "cell_type": "markdown",
   "id": "470e05a5",
   "metadata": {},
   "source": [
    "**1.2 Найдем явные дубликаты**"
   ]
  },
  {
   "cell_type": "code",
   "execution_count": 5,
   "id": "ff1679d4",
   "metadata": {},
   "outputs": [
    {
     "name": "stdout",
     "output_type": "stream",
     "text": [
      "Количество явных дубликатов в users_go =  31\n",
      "Количество явных дубликатов в rides_go =  0\n"
     ]
    }
   ],
   "source": [
    "print('Количество явных дубликатов в users_go = ', users_go.duplicated().sum())\n",
    "print('Количество явных дубликатов в rides_go = ', rides_go.duplicated().sum())"
   ]
  },
  {
   "cell_type": "markdown",
   "id": "0d14c70e",
   "metadata": {},
   "source": [
    "**1.3 И построим гистограммы для столбцов *age, distance, duration и date***"
   ]
  },
  {
   "cell_type": "code",
   "execution_count": 6,
   "id": "91fa8e60",
   "metadata": {
    "scrolled": true
   },
   "outputs": [
    {
     "data": {
      "image/png": "[encoded data removed]",
      "text/plain": [
       "<Figure size 432x288 with 1 Axes>"
      ]
     },
     "metadata": {
      "needs_background": "light"
     },
     "output_type": "display_data"
    }
   ],
   "source": [
    "users_go['age'].hist(bins=30)\n",
    "plt.title('age')\n",
    "plt.xlabel('Возраст')\n",
    "plt.ylabel('Количество')\n",
    "plt.show()"
   ]
  },
  {
   "cell_type": "code",
   "execution_count": 7,
   "id": "e1b00186",
   "metadata": {},
   "outputs": [
    {
     "data": {
      "image/png": "[encoded data removed]",
      "text/plain": [
       "<Figure size 432x288 with 1 Axes>"
      ]
     },
     "metadata": {
      "needs_background": "light"
     },
     "output_type": "display_data"
    }
   ],
   "source": [
    "rides_go['distance'].hist(bins=100)\n",
    "plt.title('Distance')\n",
    "plt.xlabel('Расстояние')\n",
    "plt.ylabel('Количество')\n",
    "plt.show()"
   ]
  },
  {
   "cell_type": "code",
   "execution_count": 8,
   "id": "0a09af76",
   "metadata": {},
   "outputs": [
    {
     "data": {
      "image/png": "[encoded data removed]",
      "text/plain": [
       "<Figure size 432x288 with 1 Axes>"
      ]
     },
     "metadata": {
      "needs_background": "light"
     },
     "output_type": "display_data"
    }
   ],
   "source": [
    "rides_go['duration'].hist(bins=100)\n",
    "plt.title('Duration')\n",
    "plt.xlabel('Время в пути')\n",
    "plt.ylabel('Количество')\n",
    "plt.show()"
   ]
  },
  {
   "cell_type": "code",
   "execution_count": 9,
   "id": "bbf4e5a8",
   "metadata": {},
   "outputs": [
    {
     "data": {
      "image/png": "[encoded data removed]",
      "text/plain": [
       "<Figure size 432x288 with 1 Axes>"
      ]
     },
     "metadata": {
      "needs_background": "light"
     },
     "output_type": "display_data"
    }
   ],
   "source": [
    "rides_go['date'].hist(bins=12)\n",
    "plt.title('Date')\n",
    "plt.xlabel('Дата')\n",
    "plt.ylabel('Количество')\n",
    "plt.show()"
   ]
  },
  {
   "cell_type": "markdown",
   "id": "d18d88d9",
   "metadata": {},
   "source": [
    "**Вывод:**\n",
    "\n"
   ]
  },
  {
   "cell_type": "markdown",
   "id": "081118c0",
   "metadata": {},
   "source": [
    "В датасете ***users_go*** 1565 записей. Пропуски отсутствуют и 31 явных дубликатов.\n",
    "По гистограмме стобца ***age*** мы видим, что пиковым значением является возраст 25 лет, в основном самокатами пользуются люди от 20 до 30 лет."
   ]
  },
  {
   "cell_type": "markdown",
   "id": "3ec7b6f5",
   "metadata": {},
   "source": [
    "В датасете ***rides_go*** 18068 записей. Пропуски отсутствуют, явные дубликаты тоже. По гистограммам мы видим следующее:"
   ]
  },
  {
   "cell_type": "markdown",
   "id": "c0c59650",
   "metadata": {},
   "source": [
    "1. Среднее расстояние, пройденное на самокате - 3000 метров = 3км. Максимальным расстоянием будет чуть больше 7км. \n"
   ]
  },
  {
   "cell_type": "markdown",
   "id": "6e020b34",
   "metadata": {},
   "source": [
    "2. Среднее время пользования самокатом - 18 минут. Максимальное - 40 минут. Мы видим скачок значений около ноля, как и на гистограмме столбца ***distance***, скорее всего это техническая неисправность самоката: начал поездку, заметил, например, спущенное колесо и поставил обратно."
   ]
  },
  {
   "cell_type": "markdown",
   "id": "80d0ebe5",
   "metadata": {},
   "source": [
    "Для датасета ***subscriptions_go*** нет смысла строить гистограмму или искать дубликаты, а пропусков в нём нет."
   ]
  },
  {
   "cell_type": "markdown",
   "id": "e95ebca7",
   "metadata": {},
   "source": [
    "#### Шаг 2. Предобработка данных"
   ]
  },
  {
   "cell_type": "markdown",
   "id": "6378b45a",
   "metadata": {},
   "source": [
    "**2.1 Удалим явные дубликаты в  датафрейме *users_go***"
   ]
  },
  {
   "cell_type": "code",
   "execution_count": 10,
   "id": "d507875d",
   "metadata": {},
   "outputs": [
    {
     "name": "stdout",
     "output_type": "stream",
     "text": [
      "0\n"
     ]
    }
   ],
   "source": [
    "users_go = users_go.drop_duplicates()\n",
    "print(users_go.duplicated().sum())"
   ]
  },
  {
   "cell_type": "markdown",
   "id": "55a8b982",
   "metadata": {},
   "source": [
    "**2.2 Округлим значения в стобцах *distance* и *duration* датафрейма *rides_go*.**"
   ]
  },
  {
   "cell_type": "code",
   "execution_count": 11,
   "id": "f4e9b205",
   "metadata": {},
   "outputs": [],
   "source": [
    "rides_go['distance'] = rides_go['distance'].round(2)\n",
    "rides_go['duration'] = np.ceil(rides_go['duration']) "
   ]
  },
  {
   "cell_type": "markdown",
   "id": "57efb9fc",
   "metadata": {},
   "source": [
    "**2.3 Приведем столбец *date* к формату даты pandas и создадим новый столбец на основе столбца *date***"
   ]
  },
  {
   "cell_type": "code",
   "execution_count": 12,
   "id": "d84f78a0",
   "metadata": {},
   "outputs": [],
   "source": [
    "rides_go['date'] = pd.to_datetime(rides_go['date'], format='%Y-%m-%d')"
   ]
  },
  {
   "cell_type": "code",
   "execution_count": 13,
   "id": "59eda707",
   "metadata": {},
   "outputs": [],
   "source": [
    "rides_go['month'] = rides_go['date'].dt.month"
   ]
  },
  {
   "cell_type": "markdown",
   "id": "179b786f",
   "metadata": {},
   "source": [
    "**Вывод:**  \n",
    "Мы удалили явные дубликаты в датафрейме *users_go*. "
   ]
  },
  {
   "cell_type": "markdown",
   "id": "794dae85",
   "metadata": {},
   "source": [
    "Окгрулили значения в столбцах *distance* и *duration* датафрейма *rides_go*. "
   ]
  },
  {
   "cell_type": "markdown",
   "id": "cae79925",
   "metadata": {},
   "source": [
    "Привели столбец *date* к формату даты *pandas* и создали новый столбец."
   ]
  },
  {
   "cell_type": "markdown",
   "id": "110b7d78",
   "metadata": {},
   "source": [
    "#### Шаг 3. Исследовательский анализ данных"
   ]
  },
  {
   "cell_type": "markdown",
   "id": "9ffb77f6",
   "metadata": {},
   "source": [
    "**3.1 Визуализируем частоту встречаемости городов**"
   ]
  },
  {
   "cell_type": "code",
   "execution_count": 14,
   "id": "68350ef0",
   "metadata": {
    "scrolled": true
   },
   "outputs": [
    {
     "name": "stdout",
     "output_type": "stream",
     "text": [
      "                user_id\n",
      "city                   \n",
      "Пятигорск           219\n",
      "Екатеринбург        204\n",
      "Ростов-на-Дону      198\n",
      "Краснодар           193\n",
      "Сочи                189\n",
      "Омск                183\n",
      "Тюмень              180\n",
      "Москва              168\n"
     ]
    },
    {
     "data": {
      "image/png": "[encoded data removed]",
      "text/plain": [
       "<Figure size 432x288 with 1 Axes>"
      ]
     },
     "metadata": {
      "needs_background": "light"
     },
     "output_type": "display_data"
    }
   ],
   "source": [
    "print(users_go.pivot_table(index=['city'], values=['user_id'], aggfunc='count').sort_values(by='user_id', ascending=False))\n",
    "(\n",
    "    users_go.pivot_table(index=['city'], values=['user_id'], aggfunc='count')\n",
    "    .sort_values(by='user_id')\n",
    "    .plot(kind='bar', grid=True, )\n",
    ")\n",
    "plt.title('Количество пользователей в городах')\n",
    "plt.xlabel('Город')\n",
    "plt.ylabel('Количество пользователей')\n",
    "plt.show()"
   ]
  },
  {
   "cell_type": "markdown",
   "id": "a87dd31c",
   "metadata": {},
   "source": [
    "**Вывод:**"
   ]
  },
  {
   "cell_type": "markdown",
   "id": "ec40f274",
   "metadata": {},
   "source": [
    "В ходе исследования мы выяснили, что в тройке лидеров находятся Пятигорск, Екатеринбург и Ростов-на-Дону. На последнем месте Москва."
   ]
  },
  {
   "cell_type": "markdown",
   "id": "a46062ef",
   "metadata": {},
   "source": [
    "**3.2 Исследуем соотношение пользователей с подпиской и без подписки**"
   ]
  },
  {
   "cell_type": "code",
   "execution_count": 15,
   "id": "f55a97c5",
   "metadata": {},
   "outputs": [
    {
     "name": "stdout",
     "output_type": "stream",
     "text": [
      "                   user_id\n",
      "subscription_type         \n",
      "free                   835\n",
      "ultra                  699\n"
     ]
    },
    {
     "data": {
      "image/png": "[encoded data removed]",
      "text/plain": [
       "<Figure size 432x288 with 1 Axes>"
      ]
     },
     "metadata": {},
     "output_type": "display_data"
    }
   ],
   "source": [
    "print(users_go.pivot_table(index=['subscription_type'], values=['user_id'], aggfunc='count'))\n",
    "(\n",
    "    users_go.pivot_table(index=['subscription_type'], values=['user_id'], aggfunc='count')\n",
    "    .plot(kind='pie', y='user_id', autopct='%1.0f%%')\n",
    ")\n",
    "plt.show()"
   ]
  },
  {
   "cell_type": "markdown",
   "id": "9256e75c",
   "metadata": {},
   "source": [
    "**Вывод:**"
   ]
  },
  {
   "cell_type": "markdown",
   "id": "1f66ab9d",
   "metadata": {},
   "source": [
    "Количество пользователей без подписки - 835 (54%), превышает количество пользователей с подпиской - 699 (46%)."
   ]
  },
  {
   "cell_type": "markdown",
   "id": "5da9dc13",
   "metadata": {},
   "source": [
    "**3.3 Исследуем возраст пользователей.**"
   ]
  },
  {
   "cell_type": "code",
   "execution_count": 16,
   "id": "42d99cc4",
   "metadata": {},
   "outputs": [
    {
     "data": {
      "image/png": "[encoded data removed]",
      "text/plain": [
       "<Figure size 432x288 with 1 Axes>"
      ]
     },
     "metadata": {
      "needs_background": "light"
     },
     "output_type": "display_data"
    }
   ],
   "source": [
    "(\n",
    "    users_go.pivot_table(index=['age'], values=['user_id'], aggfunc='count')\n",
    "    .sort_values(by=['age'], ascending=True)\n",
    "    .plot(kind='bar', grid=True)\n",
    ")\n",
    "plt.title('Возраст пользователей')\n",
    "plt.xlabel('Возраст')\n",
    "plt.ylabel('Количество пользователей')\n",
    "plt.show()\n"
   ]
  },
  {
   "cell_type": "code",
   "execution_count": null,
   "id": "40398150",
   "metadata": {},
   "outputs": [],
   "source": []
  },
  {
   "cell_type": "markdown",
   "id": "8831b0f7",
   "metadata": {},
   "source": [
    "**Вывод:**"
   ]
  },
  {
   "cell_type": "markdown",
   "id": "9658dfd3",
   "metadata": {},
   "source": [
    "Средний возраст пользователей - 25 лет. Количество пользователей старше и младше двадцати пяти равномерно уменьшается."
   ]
  },
  {
   "cell_type": "markdown",
   "id": "f7307455",
   "metadata": {},
   "source": [
    "**3.4 Исследуем расстояние, которое пользователь преодолел за одну поездку**"
   ]
  },
  {
   "cell_type": "code",
   "execution_count": 17,
   "id": "cc9f692c",
   "metadata": {},
   "outputs": [
    {
     "data": {
      "text/plain": [
       "count    18068.000000\n",
       "mean      3070.659992\n",
       "std       1116.831222\n",
       "min          0.860000\n",
       "25%       2543.227500\n",
       "50%       3133.610000\n",
       "75%       3776.220000\n",
       "max       7211.010000\n",
       "Name: distance, dtype: float64"
      ]
     },
     "execution_count": 17,
     "metadata": {},
     "output_type": "execute_result"
    }
   ],
   "source": [
    "rides_go['distance'].describe()"
   ]
  },
  {
   "cell_type": "code",
   "execution_count": 18,
   "id": "d6710057",
   "metadata": {},
   "outputs": [
    {
     "data": {
      "image/png": "[encoded data removed]",
      "text/plain": [
       "<Figure size 432x288 with 1 Axes>"
      ]
     },
     "metadata": {
      "needs_background": "light"
     },
     "output_type": "display_data"
    }
   ],
   "source": [
    "rides_go['distance'].hist(bins=300, range=(0, 7211))\n",
    "plt.xlabel('Расстояние')\n",
    "plt.ylabel('Количество поездок')\n",
    "plt.show()"
   ]
  },
  {
   "cell_type": "markdown",
   "id": "a1b90e3b",
   "metadata": {},
   "source": [
    "**Вывод:**"
   ]
  },
  {
   "cell_type": "markdown",
   "id": "cd5bc847",
   "metadata": {},
   "source": [
    "Как и говорили ранее, в среднем люди проезжаюь от 2543 до 3776 метров - это первый и третий квартили соответственно. Пик приходится на 3133 метров - второй квартиль."
   ]
  },
  {
   "cell_type": "markdown",
   "id": "db95a019",
   "metadata": {},
   "source": []
  },
  {
   "cell_type": "markdown",
   "id": "fb14cb3b",
   "metadata": {},
   "source": [
    "**3.5 Исследуем продолжительность поездок.**"
   ]
  },
  {
   "cell_type": "code",
   "execution_count": 19,
   "id": "695bd317",
   "metadata": {},
   "outputs": [
    {
     "data": {
      "text/plain": [
       "count    18068.000000\n",
       "mean        18.303520\n",
       "std          6.094928\n",
       "min          1.000000\n",
       "25%         14.000000\n",
       "50%         18.000000\n",
       "75%         22.000000\n",
       "max         41.000000\n",
       "Name: duration, dtype: float64"
      ]
     },
     "execution_count": 19,
     "metadata": {},
     "output_type": "execute_result"
    }
   ],
   "source": [
    "rides_go['duration'].describe()"
   ]
  },
  {
   "cell_type": "code",
   "execution_count": 20,
   "id": "61848557",
   "metadata": {},
   "outputs": [
    {
     "data": {
      "image/png": "[encoded data removed]",
      "text/plain": [
       "<Figure size 432x288 with 1 Axes>"
      ]
     },
     "metadata": {
      "needs_background": "light"
     },
     "output_type": "display_data"
    }
   ],
   "source": [
    "rides_go['duration'].hist(bins=200, range=(0, 40))\n",
    "plt.xlabel('Время в пути')\n",
    "plt.ylabel('Количество поездок') \n",
    "plt.show()                         "
   ]
  },
  {
   "cell_type": "markdown",
   "id": "d5413251",
   "metadata": {},
   "source": [
    "**Вывод:**"
   ]
  },
  {
   "cell_type": "markdown",
   "id": "11cb7a47",
   "metadata": {},
   "source": [
    "Среднее время в пути составляет 17.8 минут, но опять же видим всплеск около нуля, начали поздку и сразу закончили?"
   ]
  },
  {
   "cell_type": "markdown",
   "id": "cc3f1162",
   "metadata": {},
   "source": [
    "**Общий вывод по разделу:**"
   ]
  },
  {
   "cell_type": "markdown",
   "id": "e7248959",
   "metadata": {},
   "source": [
    "1. Больше всего пользователей встречаются в Пятигорске, Екатеринбурге и Ростове-на-Дону. Москва занимает последнее место."
   ]
  },
  {
   "cell_type": "markdown",
   "id": "64d86d3e",
   "metadata": {},
   "source": [
    "2. Пользователей без подписки больше, чем пользователей с подпиской, но разница небольшая, я думал, что она будет существеннее."
   ]
  },
  {
   "cell_type": "markdown",
   "id": "3db15fed",
   "metadata": {},
   "source": [
    "3. Самокатами в основном пользуются люди 25лет +-5 лет."
   ]
  },
  {
   "cell_type": "markdown",
   "id": "6431117d",
   "metadata": {},
   "source": [
    "4. И проезжают 3 километра за 18 минут."
   ]
  },
  {
   "cell_type": "markdown",
   "id": "cc04488d",
   "metadata": {},
   "source": [
    "#### Шаг 4. Объединение данных"
   ]
  },
  {
   "cell_type": "markdown",
   "id": "88d8cfab",
   "metadata": {},
   "source": [
    "**4.1 Объединим данные о пользователях, поездках и подписках в один датафрейм.**"
   ]
  },
  {
   "cell_type": "code",
   "execution_count": 21,
   "id": "4453ab58",
   "metadata": {},
   "outputs": [
    {
     "data": {
      "text/plain": [
       "1534"
      ]
     },
     "execution_count": 21,
     "metadata": {},
     "output_type": "execute_result"
    }
   ],
   "source": [
    "users_go.shape[0]"
   ]
  },
  {
   "cell_type": "code",
   "execution_count": 22,
   "id": "1cc2f312",
   "metadata": {},
   "outputs": [
    {
     "data": {
      "text/plain": [
       "18068"
      ]
     },
     "execution_count": 22,
     "metadata": {},
     "output_type": "execute_result"
    }
   ],
   "source": [
    "rides_go.shape[0]"
   ]
  },
  {
   "cell_type": "code",
   "execution_count": 23,
   "id": "752cfb7a",
   "metadata": {},
   "outputs": [
    {
     "data": {
      "text/plain": [
       "2"
      ]
     },
     "execution_count": 23,
     "metadata": {},
     "output_type": "execute_result"
    }
   ],
   "source": [
    "subscriptions_go.shape[0]"
   ]
  },
  {
   "cell_type": "code",
   "execution_count": 24,
   "id": "44d23802",
   "metadata": {},
   "outputs": [],
   "source": [
    "general_df = users_go.merge(rides_go, on='user_id')\n",
    "general_df = general_df.merge(subscriptions_go, on='subscription_type')"
   ]
  },
  {
   "cell_type": "code",
   "execution_count": 25,
   "id": "6b117151",
   "metadata": {},
   "outputs": [
    {
     "data": {
      "text/html": [
       "<div>\n",
       "<style scoped>\n",
       "    .dataframe tbody tr th:only-of-type {\n",
       "        vertical-align: middle;\n",
       "    }\n",
       "\n",
       "    .dataframe tbody tr th {\n",
       "        vertical-align: top;\n",
       "    }\n",
       "\n",
       "    .dataframe thead th {\n",
       "        text-align: right;\n",
       "    }\n",
       "</style>\n",
       "<table border=\"1\" class=\"dataframe\">\n",
       "  <thead>\n",
       "    <tr style=\"text-align: right;\">\n",
       "      <th></th>\n",
       "      <th>user_id</th>\n",
       "      <th>name</th>\n",
       "      <th>age</th>\n",
       "      <th>city</th>\n",
       "      <th>subscription_type</th>\n",
       "      <th>distance</th>\n",
       "      <th>duration</th>\n",
       "      <th>date</th>\n",
       "      <th>month</th>\n",
       "      <th>minute_price</th>\n",
       "      <th>start_ride_price</th>\n",
       "      <th>subscription_fee</th>\n",
       "    </tr>\n",
       "  </thead>\n",
       "  <tbody>\n",
       "    <tr>\n",
       "      <th>0</th>\n",
       "      <td>1</td>\n",
       "      <td>Кира</td>\n",
       "      <td>22</td>\n",
       "      <td>Тюмень</td>\n",
       "      <td>ultra</td>\n",
       "      <td>4409.92</td>\n",
       "      <td>26.0</td>\n",
       "      <td>2021-01-01</td>\n",
       "      <td>1</td>\n",
       "      <td>6</td>\n",
       "      <td>0</td>\n",
       "      <td>199</td>\n",
       "    </tr>\n",
       "    <tr>\n",
       "      <th>1</th>\n",
       "      <td>1</td>\n",
       "      <td>Кира</td>\n",
       "      <td>22</td>\n",
       "      <td>Тюмень</td>\n",
       "      <td>ultra</td>\n",
       "      <td>2617.59</td>\n",
       "      <td>16.0</td>\n",
       "      <td>2021-01-18</td>\n",
       "      <td>1</td>\n",
       "      <td>6</td>\n",
       "      <td>0</td>\n",
       "      <td>199</td>\n",
       "    </tr>\n",
       "    <tr>\n",
       "      <th>2</th>\n",
       "      <td>1</td>\n",
       "      <td>Кира</td>\n",
       "      <td>22</td>\n",
       "      <td>Тюмень</td>\n",
       "      <td>ultra</td>\n",
       "      <td>754.16</td>\n",
       "      <td>7.0</td>\n",
       "      <td>2021-04-20</td>\n",
       "      <td>4</td>\n",
       "      <td>6</td>\n",
       "      <td>0</td>\n",
       "      <td>199</td>\n",
       "    </tr>\n",
       "    <tr>\n",
       "      <th>3</th>\n",
       "      <td>1</td>\n",
       "      <td>Кира</td>\n",
       "      <td>22</td>\n",
       "      <td>Тюмень</td>\n",
       "      <td>ultra</td>\n",
       "      <td>2694.78</td>\n",
       "      <td>19.0</td>\n",
       "      <td>2021-08-11</td>\n",
       "      <td>8</td>\n",
       "      <td>6</td>\n",
       "      <td>0</td>\n",
       "      <td>199</td>\n",
       "    </tr>\n",
       "    <tr>\n",
       "      <th>4</th>\n",
       "      <td>1</td>\n",
       "      <td>Кира</td>\n",
       "      <td>22</td>\n",
       "      <td>Тюмень</td>\n",
       "      <td>ultra</td>\n",
       "      <td>4028.69</td>\n",
       "      <td>27.0</td>\n",
       "      <td>2021-08-28</td>\n",
       "      <td>8</td>\n",
       "      <td>6</td>\n",
       "      <td>0</td>\n",
       "      <td>199</td>\n",
       "    </tr>\n",
       "    <tr>\n",
       "      <th>5</th>\n",
       "      <td>1</td>\n",
       "      <td>Кира</td>\n",
       "      <td>22</td>\n",
       "      <td>Тюмень</td>\n",
       "      <td>ultra</td>\n",
       "      <td>2770.89</td>\n",
       "      <td>17.0</td>\n",
       "      <td>2021-10-09</td>\n",
       "      <td>10</td>\n",
       "      <td>6</td>\n",
       "      <td>0</td>\n",
       "      <td>199</td>\n",
       "    </tr>\n",
       "    <tr>\n",
       "      <th>6</th>\n",
       "      <td>1</td>\n",
       "      <td>Кира</td>\n",
       "      <td>22</td>\n",
       "      <td>Тюмень</td>\n",
       "      <td>ultra</td>\n",
       "      <td>3039.02</td>\n",
       "      <td>15.0</td>\n",
       "      <td>2021-10-19</td>\n",
       "      <td>10</td>\n",
       "      <td>6</td>\n",
       "      <td>0</td>\n",
       "      <td>199</td>\n",
       "    </tr>\n",
       "    <tr>\n",
       "      <th>7</th>\n",
       "      <td>1</td>\n",
       "      <td>Кира</td>\n",
       "      <td>22</td>\n",
       "      <td>Тюмень</td>\n",
       "      <td>ultra</td>\n",
       "      <td>2842.12</td>\n",
       "      <td>24.0</td>\n",
       "      <td>2021-11-06</td>\n",
       "      <td>11</td>\n",
       "      <td>6</td>\n",
       "      <td>0</td>\n",
       "      <td>199</td>\n",
       "    </tr>\n",
       "    <tr>\n",
       "      <th>8</th>\n",
       "      <td>1</td>\n",
       "      <td>Кира</td>\n",
       "      <td>22</td>\n",
       "      <td>Тюмень</td>\n",
       "      <td>ultra</td>\n",
       "      <td>3412.69</td>\n",
       "      <td>16.0</td>\n",
       "      <td>2021-11-14</td>\n",
       "      <td>11</td>\n",
       "      <td>6</td>\n",
       "      <td>0</td>\n",
       "      <td>199</td>\n",
       "    </tr>\n",
       "    <tr>\n",
       "      <th>9</th>\n",
       "      <td>1</td>\n",
       "      <td>Кира</td>\n",
       "      <td>22</td>\n",
       "      <td>Тюмень</td>\n",
       "      <td>ultra</td>\n",
       "      <td>748.69</td>\n",
       "      <td>16.0</td>\n",
       "      <td>2021-11-22</td>\n",
       "      <td>11</td>\n",
       "      <td>6</td>\n",
       "      <td>0</td>\n",
       "      <td>199</td>\n",
       "    </tr>\n",
       "    <tr>\n",
       "      <th>10</th>\n",
       "      <td>1</td>\n",
       "      <td>Кира</td>\n",
       "      <td>22</td>\n",
       "      <td>Тюмень</td>\n",
       "      <td>ultra</td>\n",
       "      <td>4031.02</td>\n",
       "      <td>18.0</td>\n",
       "      <td>2021-12-14</td>\n",
       "      <td>12</td>\n",
       "      <td>6</td>\n",
       "      <td>0</td>\n",
       "      <td>199</td>\n",
       "    </tr>\n",
       "    <tr>\n",
       "      <th>11</th>\n",
       "      <td>1</td>\n",
       "      <td>Кира</td>\n",
       "      <td>22</td>\n",
       "      <td>Тюмень</td>\n",
       "      <td>ultra</td>\n",
       "      <td>2720.61</td>\n",
       "      <td>10.0</td>\n",
       "      <td>2021-12-22</td>\n",
       "      <td>12</td>\n",
       "      <td>6</td>\n",
       "      <td>0</td>\n",
       "      <td>199</td>\n",
       "    </tr>\n",
       "    <tr>\n",
       "      <th>12</th>\n",
       "      <td>2</td>\n",
       "      <td>Станислав</td>\n",
       "      <td>31</td>\n",
       "      <td>Омск</td>\n",
       "      <td>ultra</td>\n",
       "      <td>3105.09</td>\n",
       "      <td>25.0</td>\n",
       "      <td>2021-03-15</td>\n",
       "      <td>3</td>\n",
       "      <td>6</td>\n",
       "      <td>0</td>\n",
       "      <td>199</td>\n",
       "    </tr>\n",
       "    <tr>\n",
       "      <th>13</th>\n",
       "      <td>2</td>\n",
       "      <td>Станислав</td>\n",
       "      <td>31</td>\n",
       "      <td>Омск</td>\n",
       "      <td>ultra</td>\n",
       "      <td>3053.52</td>\n",
       "      <td>12.0</td>\n",
       "      <td>2021-03-18</td>\n",
       "      <td>3</td>\n",
       "      <td>6</td>\n",
       "      <td>0</td>\n",
       "      <td>199</td>\n",
       "    </tr>\n",
       "    <tr>\n",
       "      <th>14</th>\n",
       "      <td>2</td>\n",
       "      <td>Станислав</td>\n",
       "      <td>31</td>\n",
       "      <td>Омск</td>\n",
       "      <td>ultra</td>\n",
       "      <td>4029.12</td>\n",
       "      <td>26.0</td>\n",
       "      <td>2021-03-23</td>\n",
       "      <td>3</td>\n",
       "      <td>6</td>\n",
       "      <td>0</td>\n",
       "      <td>199</td>\n",
       "    </tr>\n",
       "    <tr>\n",
       "      <th>15</th>\n",
       "      <td>2</td>\n",
       "      <td>Станислав</td>\n",
       "      <td>31</td>\n",
       "      <td>Омск</td>\n",
       "      <td>ultra</td>\n",
       "      <td>2805.79</td>\n",
       "      <td>21.0</td>\n",
       "      <td>2021-04-08</td>\n",
       "      <td>4</td>\n",
       "      <td>6</td>\n",
       "      <td>0</td>\n",
       "      <td>199</td>\n",
       "    </tr>\n",
       "    <tr>\n",
       "      <th>16</th>\n",
       "      <td>2</td>\n",
       "      <td>Станислав</td>\n",
       "      <td>31</td>\n",
       "      <td>Омск</td>\n",
       "      <td>ultra</td>\n",
       "      <td>3358.60</td>\n",
       "      <td>19.0</td>\n",
       "      <td>2021-04-13</td>\n",
       "      <td>4</td>\n",
       "      <td>6</td>\n",
       "      <td>0</td>\n",
       "      <td>199</td>\n",
       "    </tr>\n",
       "    <tr>\n",
       "      <th>17</th>\n",
       "      <td>2</td>\n",
       "      <td>Станислав</td>\n",
       "      <td>31</td>\n",
       "      <td>Омск</td>\n",
       "      <td>ultra</td>\n",
       "      <td>3255.34</td>\n",
       "      <td>14.0</td>\n",
       "      <td>2021-06-20</td>\n",
       "      <td>6</td>\n",
       "      <td>6</td>\n",
       "      <td>0</td>\n",
       "      <td>199</td>\n",
       "    </tr>\n",
       "    <tr>\n",
       "      <th>18</th>\n",
       "      <td>2</td>\n",
       "      <td>Станислав</td>\n",
       "      <td>31</td>\n",
       "      <td>Омск</td>\n",
       "      <td>ultra</td>\n",
       "      <td>3942.82</td>\n",
       "      <td>21.0</td>\n",
       "      <td>2021-07-02</td>\n",
       "      <td>7</td>\n",
       "      <td>6</td>\n",
       "      <td>0</td>\n",
       "      <td>199</td>\n",
       "    </tr>\n",
       "    <tr>\n",
       "      <th>19</th>\n",
       "      <td>2</td>\n",
       "      <td>Станислав</td>\n",
       "      <td>31</td>\n",
       "      <td>Омск</td>\n",
       "      <td>ultra</td>\n",
       "      <td>2837.91</td>\n",
       "      <td>27.0</td>\n",
       "      <td>2021-07-18</td>\n",
       "      <td>7</td>\n",
       "      <td>6</td>\n",
       "      <td>0</td>\n",
       "      <td>199</td>\n",
       "    </tr>\n",
       "  </tbody>\n",
       "</table>\n",
       "</div>"
      ],
      "text/plain": [
       "    user_id       name  age    city subscription_type  distance  duration  \\\n",
       "0         1       Кира   22  Тюмень             ultra   4409.92      26.0   \n",
       "1         1       Кира   22  Тюмень             ultra   2617.59      16.0   \n",
       "2         1       Кира   22  Тюмень             ultra    754.16       7.0   \n",
       "3         1       Кира   22  Тюмень             ultra   2694.78      19.0   \n",
       "4         1       Кира   22  Тюмень             ultra   4028.69      27.0   \n",
       "5         1       Кира   22  Тюмень             ultra   2770.89      17.0   \n",
       "6         1       Кира   22  Тюмень             ultra   3039.02      15.0   \n",
       "7         1       Кира   22  Тюмень             ultra   2842.12      24.0   \n",
       "8         1       Кира   22  Тюмень             ultra   3412.69      16.0   \n",
       "9         1       Кира   22  Тюмень             ultra    748.69      16.0   \n",
       "10        1       Кира   22  Тюмень             ultra   4031.02      18.0   \n",
       "11        1       Кира   22  Тюмень             ultra   2720.61      10.0   \n",
       "12        2  Станислав   31    Омск             ultra   3105.09      25.0   \n",
       "13        2  Станислав   31    Омск             ultra   3053.52      12.0   \n",
       "14        2  Станислав   31    Омск             ultra   4029.12      26.0   \n",
       "15        2  Станислав   31    Омск             ultra   2805.79      21.0   \n",
       "16        2  Станислав   31    Омск             ultra   3358.60      19.0   \n",
       "17        2  Станислав   31    Омск             ultra   3255.34      14.0   \n",
       "18        2  Станислав   31    Омск             ultra   3942.82      21.0   \n",
       "19        2  Станислав   31    Омск             ultra   2837.91      27.0   \n",
       "\n",
       "         date  month  minute_price  start_ride_price  subscription_fee  \n",
       "0  2021-01-01      1             6                 0               199  \n",
       "1  2021-01-18      1             6                 0               199  \n",
       "2  2021-04-20      4             6                 0               199  \n",
       "3  2021-08-11      8             6                 0               199  \n",
       "4  2021-08-28      8             6                 0               199  \n",
       "5  2021-10-09     10             6                 0               199  \n",
       "6  2021-10-19     10             6                 0               199  \n",
       "7  2021-11-06     11             6                 0               199  \n",
       "8  2021-11-14     11             6                 0               199  \n",
       "9  2021-11-22     11             6                 0               199  \n",
       "10 2021-12-14     12             6                 0               199  \n",
       "11 2021-12-22     12             6                 0               199  \n",
       "12 2021-03-15      3             6                 0               199  \n",
       "13 2021-03-18      3             6                 0               199  \n",
       "14 2021-03-23      3             6                 0               199  \n",
       "15 2021-04-08      4             6                 0               199  \n",
       "16 2021-04-13      4             6                 0               199  \n",
       "17 2021-06-20      6             6                 0               199  \n",
       "18 2021-07-02      7             6                 0               199  \n",
       "19 2021-07-18      7             6                 0               199  "
      ]
     },
     "execution_count": 25,
     "metadata": {},
     "output_type": "execute_result"
    }
   ],
   "source": [
    "general_df.head(20)"
   ]
  },
  {
   "cell_type": "code",
   "execution_count": 26,
   "id": "472fab10",
   "metadata": {},
   "outputs": [
    {
     "data": {
      "text/plain": [
       "0"
      ]
     },
     "execution_count": 26,
     "metadata": {},
     "output_type": "execute_result"
    }
   ],
   "source": [
    "general_df.duplicated().sum()"
   ]
  },
  {
   "cell_type": "code",
   "execution_count": 27,
   "id": "24ae7e49",
   "metadata": {},
   "outputs": [],
   "source": [
    "general_df = general_df.drop_duplicates()"
   ]
  },
  {
   "cell_type": "code",
   "execution_count": 28,
   "id": "4e3a993e",
   "metadata": {
    "scrolled": true
   },
   "outputs": [
    {
     "name": "stdout",
     "output_type": "stream",
     "text": [
      "<class 'pandas.core.frame.DataFrame'>\n",
      "Int64Index: 18068 entries, 0 to 18067\n",
      "Data columns (total 12 columns):\n",
      " #   Column             Non-Null Count  Dtype         \n",
      "---  ------             --------------  -----         \n",
      " 0   user_id            18068 non-null  int64         \n",
      " 1   name               18068 non-null  object        \n",
      " 2   age                18068 non-null  int64         \n",
      " 3   city               18068 non-null  object        \n",
      " 4   subscription_type  18068 non-null  object        \n",
      " 5   distance           18068 non-null  float64       \n",
      " 6   duration           18068 non-null  float64       \n",
      " 7   date               18068 non-null  datetime64[ns]\n",
      " 8   month              18068 non-null  int64         \n",
      " 9   minute_price       18068 non-null  int64         \n",
      " 10  start_ride_price   18068 non-null  int64         \n",
      " 11  subscription_fee   18068 non-null  int64         \n",
      "dtypes: datetime64[ns](1), float64(2), int64(6), object(3)\n",
      "memory usage: 1.8+ MB\n"
     ]
    }
   ],
   "source": [
    "general_df.info()"
   ]
  },
  {
   "cell_type": "markdown",
   "id": "b885f682",
   "metadata": {},
   "source": [
    "**4.2 Создадим еще два датафрейма: с данными о пользователях с подпиской и с данными о пользователях без подписки.**"
   ]
  },
  {
   "cell_type": "code",
   "execution_count": 29,
   "id": "c293ceb5",
   "metadata": {},
   "outputs": [],
   "source": [
    "subscription_free = general_df[general_df['subscription_type']=='free']"
   ]
  },
  {
   "cell_type": "code",
   "execution_count": 30,
   "id": "a5a1245b",
   "metadata": {},
   "outputs": [],
   "source": [
    "subscription_ultra = general_df[general_df['subscription_type']=='ultra']\n"
   ]
  },
  {
   "cell_type": "code",
   "execution_count": 31,
   "id": "fa7b2d5f",
   "metadata": {},
   "outputs": [
    {
     "data": {
      "text/html": [
       "<div>\n",
       "<style scoped>\n",
       "    .dataframe tbody tr th:only-of-type {\n",
       "        vertical-align: middle;\n",
       "    }\n",
       "\n",
       "    .dataframe tbody tr th {\n",
       "        vertical-align: top;\n",
       "    }\n",
       "\n",
       "    .dataframe thead th {\n",
       "        text-align: right;\n",
       "    }\n",
       "</style>\n",
       "<table border=\"1\" class=\"dataframe\">\n",
       "  <thead>\n",
       "    <tr style=\"text-align: right;\">\n",
       "      <th></th>\n",
       "      <th>user_id</th>\n",
       "      <th>name</th>\n",
       "      <th>age</th>\n",
       "      <th>city</th>\n",
       "      <th>subscription_type</th>\n",
       "      <th>distance</th>\n",
       "      <th>duration</th>\n",
       "      <th>date</th>\n",
       "      <th>month</th>\n",
       "      <th>minute_price</th>\n",
       "      <th>start_ride_price</th>\n",
       "      <th>subscription_fee</th>\n",
       "    </tr>\n",
       "  </thead>\n",
       "  <tbody>\n",
       "    <tr>\n",
       "      <th>0</th>\n",
       "      <td>1</td>\n",
       "      <td>Кира</td>\n",
       "      <td>22</td>\n",
       "      <td>Тюмень</td>\n",
       "      <td>ultra</td>\n",
       "      <td>4409.92</td>\n",
       "      <td>26.0</td>\n",
       "      <td>2021-01-01</td>\n",
       "      <td>1</td>\n",
       "      <td>6</td>\n",
       "      <td>0</td>\n",
       "      <td>199</td>\n",
       "    </tr>\n",
       "    <tr>\n",
       "      <th>1</th>\n",
       "      <td>1</td>\n",
       "      <td>Кира</td>\n",
       "      <td>22</td>\n",
       "      <td>Тюмень</td>\n",
       "      <td>ultra</td>\n",
       "      <td>2617.59</td>\n",
       "      <td>16.0</td>\n",
       "      <td>2021-01-18</td>\n",
       "      <td>1</td>\n",
       "      <td>6</td>\n",
       "      <td>0</td>\n",
       "      <td>199</td>\n",
       "    </tr>\n",
       "    <tr>\n",
       "      <th>2</th>\n",
       "      <td>1</td>\n",
       "      <td>Кира</td>\n",
       "      <td>22</td>\n",
       "      <td>Тюмень</td>\n",
       "      <td>ultra</td>\n",
       "      <td>754.16</td>\n",
       "      <td>7.0</td>\n",
       "      <td>2021-04-20</td>\n",
       "      <td>4</td>\n",
       "      <td>6</td>\n",
       "      <td>0</td>\n",
       "      <td>199</td>\n",
       "    </tr>\n",
       "    <tr>\n",
       "      <th>3</th>\n",
       "      <td>1</td>\n",
       "      <td>Кира</td>\n",
       "      <td>22</td>\n",
       "      <td>Тюмень</td>\n",
       "      <td>ultra</td>\n",
       "      <td>2694.78</td>\n",
       "      <td>19.0</td>\n",
       "      <td>2021-08-11</td>\n",
       "      <td>8</td>\n",
       "      <td>6</td>\n",
       "      <td>0</td>\n",
       "      <td>199</td>\n",
       "    </tr>\n",
       "    <tr>\n",
       "      <th>4</th>\n",
       "      <td>1</td>\n",
       "      <td>Кира</td>\n",
       "      <td>22</td>\n",
       "      <td>Тюмень</td>\n",
       "      <td>ultra</td>\n",
       "      <td>4028.69</td>\n",
       "      <td>27.0</td>\n",
       "      <td>2021-08-28</td>\n",
       "      <td>8</td>\n",
       "      <td>6</td>\n",
       "      <td>0</td>\n",
       "      <td>199</td>\n",
       "    </tr>\n",
       "    <tr>\n",
       "      <th>...</th>\n",
       "      <td>...</td>\n",
       "      <td>...</td>\n",
       "      <td>...</td>\n",
       "      <td>...</td>\n",
       "      <td>...</td>\n",
       "      <td>...</td>\n",
       "      <td>...</td>\n",
       "      <td>...</td>\n",
       "      <td>...</td>\n",
       "      <td>...</td>\n",
       "      <td>...</td>\n",
       "      <td>...</td>\n",
       "    </tr>\n",
       "    <tr>\n",
       "      <th>18063</th>\n",
       "      <td>1534</td>\n",
       "      <td>Альберт</td>\n",
       "      <td>25</td>\n",
       "      <td>Краснодар</td>\n",
       "      <td>free</td>\n",
       "      <td>3781.10</td>\n",
       "      <td>20.0</td>\n",
       "      <td>2021-11-04</td>\n",
       "      <td>11</td>\n",
       "      <td>8</td>\n",
       "      <td>50</td>\n",
       "      <td>0</td>\n",
       "    </tr>\n",
       "    <tr>\n",
       "      <th>18064</th>\n",
       "      <td>1534</td>\n",
       "      <td>Альберт</td>\n",
       "      <td>25</td>\n",
       "      <td>Краснодар</td>\n",
       "      <td>free</td>\n",
       "      <td>2840.42</td>\n",
       "      <td>22.0</td>\n",
       "      <td>2021-11-16</td>\n",
       "      <td>11</td>\n",
       "      <td>8</td>\n",
       "      <td>50</td>\n",
       "      <td>0</td>\n",
       "    </tr>\n",
       "    <tr>\n",
       "      <th>18065</th>\n",
       "      <td>1534</td>\n",
       "      <td>Альберт</td>\n",
       "      <td>25</td>\n",
       "      <td>Краснодар</td>\n",
       "      <td>free</td>\n",
       "      <td>3826.19</td>\n",
       "      <td>19.0</td>\n",
       "      <td>2021-11-18</td>\n",
       "      <td>11</td>\n",
       "      <td>8</td>\n",
       "      <td>50</td>\n",
       "      <td>0</td>\n",
       "    </tr>\n",
       "    <tr>\n",
       "      <th>18066</th>\n",
       "      <td>1534</td>\n",
       "      <td>Альберт</td>\n",
       "      <td>25</td>\n",
       "      <td>Краснодар</td>\n",
       "      <td>free</td>\n",
       "      <td>2902.31</td>\n",
       "      <td>17.0</td>\n",
       "      <td>2021-11-27</td>\n",
       "      <td>11</td>\n",
       "      <td>8</td>\n",
       "      <td>50</td>\n",
       "      <td>0</td>\n",
       "    </tr>\n",
       "    <tr>\n",
       "      <th>18067</th>\n",
       "      <td>1534</td>\n",
       "      <td>Альберт</td>\n",
       "      <td>25</td>\n",
       "      <td>Краснодар</td>\n",
       "      <td>free</td>\n",
       "      <td>2371.71</td>\n",
       "      <td>16.0</td>\n",
       "      <td>2021-12-29</td>\n",
       "      <td>12</td>\n",
       "      <td>8</td>\n",
       "      <td>50</td>\n",
       "      <td>0</td>\n",
       "    </tr>\n",
       "  </tbody>\n",
       "</table>\n",
       "<p>18068 rows × 12 columns</p>\n",
       "</div>"
      ],
      "text/plain": [
       "       user_id     name  age       city subscription_type  distance  duration  \\\n",
       "0            1     Кира   22     Тюмень             ultra   4409.92      26.0   \n",
       "1            1     Кира   22     Тюмень             ultra   2617.59      16.0   \n",
       "2            1     Кира   22     Тюмень             ultra    754.16       7.0   \n",
       "3            1     Кира   22     Тюмень             ultra   2694.78      19.0   \n",
       "4            1     Кира   22     Тюмень             ultra   4028.69      27.0   \n",
       "...        ...      ...  ...        ...               ...       ...       ...   \n",
       "18063     1534  Альберт   25  Краснодар              free   3781.10      20.0   \n",
       "18064     1534  Альберт   25  Краснодар              free   2840.42      22.0   \n",
       "18065     1534  Альберт   25  Краснодар              free   3826.19      19.0   \n",
       "18066     1534  Альберт   25  Краснодар              free   2902.31      17.0   \n",
       "18067     1534  Альберт   25  Краснодар              free   2371.71      16.0   \n",
       "\n",
       "            date  month  minute_price  start_ride_price  subscription_fee  \n",
       "0     2021-01-01      1             6                 0               199  \n",
       "1     2021-01-18      1             6                 0               199  \n",
       "2     2021-04-20      4             6                 0               199  \n",
       "3     2021-08-11      8             6                 0               199  \n",
       "4     2021-08-28      8             6                 0               199  \n",
       "...          ...    ...           ...               ...               ...  \n",
       "18063 2021-11-04     11             8                50                 0  \n",
       "18064 2021-11-16     11             8                50                 0  \n",
       "18065 2021-11-18     11             8                50                 0  \n",
       "18066 2021-11-27     11             8                50                 0  \n",
       "18067 2021-12-29     12             8                50                 0  \n",
       "\n",
       "[18068 rows x 12 columns]"
      ]
     },
     "metadata": {},
     "output_type": "display_data"
    },
    {
     "data": {
      "text/html": [
       "<div>\n",
       "<style scoped>\n",
       "    .dataframe tbody tr th:only-of-type {\n",
       "        vertical-align: middle;\n",
       "    }\n",
       "\n",
       "    .dataframe tbody tr th {\n",
       "        vertical-align: top;\n",
       "    }\n",
       "\n",
       "    .dataframe thead th {\n",
       "        text-align: right;\n",
       "    }\n",
       "</style>\n",
       "<table border=\"1\" class=\"dataframe\">\n",
       "  <thead>\n",
       "    <tr style=\"text-align: right;\">\n",
       "      <th></th>\n",
       "      <th>user_id</th>\n",
       "      <th>name</th>\n",
       "      <th>age</th>\n",
       "      <th>city</th>\n",
       "      <th>subscription_type</th>\n",
       "      <th>distance</th>\n",
       "      <th>duration</th>\n",
       "      <th>date</th>\n",
       "      <th>month</th>\n",
       "      <th>minute_price</th>\n",
       "      <th>start_ride_price</th>\n",
       "      <th>subscription_fee</th>\n",
       "    </tr>\n",
       "  </thead>\n",
       "  <tbody>\n",
       "    <tr>\n",
       "      <th>6500</th>\n",
       "      <td>700</td>\n",
       "      <td>Айдар</td>\n",
       "      <td>22</td>\n",
       "      <td>Омск</td>\n",
       "      <td>free</td>\n",
       "      <td>2515.69</td>\n",
       "      <td>15.0</td>\n",
       "      <td>2021-01-02</td>\n",
       "      <td>1</td>\n",
       "      <td>8</td>\n",
       "      <td>50</td>\n",
       "      <td>0</td>\n",
       "    </tr>\n",
       "    <tr>\n",
       "      <th>6501</th>\n",
       "      <td>700</td>\n",
       "      <td>Айдар</td>\n",
       "      <td>22</td>\n",
       "      <td>Омск</td>\n",
       "      <td>free</td>\n",
       "      <td>846.93</td>\n",
       "      <td>17.0</td>\n",
       "      <td>2021-02-01</td>\n",
       "      <td>2</td>\n",
       "      <td>8</td>\n",
       "      <td>50</td>\n",
       "      <td>0</td>\n",
       "    </tr>\n",
       "    <tr>\n",
       "      <th>6502</th>\n",
       "      <td>700</td>\n",
       "      <td>Айдар</td>\n",
       "      <td>22</td>\n",
       "      <td>Омск</td>\n",
       "      <td>free</td>\n",
       "      <td>4004.43</td>\n",
       "      <td>21.0</td>\n",
       "      <td>2021-02-04</td>\n",
       "      <td>2</td>\n",
       "      <td>8</td>\n",
       "      <td>50</td>\n",
       "      <td>0</td>\n",
       "    </tr>\n",
       "    <tr>\n",
       "      <th>6503</th>\n",
       "      <td>700</td>\n",
       "      <td>Айдар</td>\n",
       "      <td>22</td>\n",
       "      <td>Омск</td>\n",
       "      <td>free</td>\n",
       "      <td>1205.91</td>\n",
       "      <td>10.0</td>\n",
       "      <td>2021-02-10</td>\n",
       "      <td>2</td>\n",
       "      <td>8</td>\n",
       "      <td>50</td>\n",
       "      <td>0</td>\n",
       "    </tr>\n",
       "    <tr>\n",
       "      <th>6504</th>\n",
       "      <td>700</td>\n",
       "      <td>Айдар</td>\n",
       "      <td>22</td>\n",
       "      <td>Омск</td>\n",
       "      <td>free</td>\n",
       "      <td>3047.38</td>\n",
       "      <td>18.0</td>\n",
       "      <td>2021-02-14</td>\n",
       "      <td>2</td>\n",
       "      <td>8</td>\n",
       "      <td>50</td>\n",
       "      <td>0</td>\n",
       "    </tr>\n",
       "    <tr>\n",
       "      <th>...</th>\n",
       "      <td>...</td>\n",
       "      <td>...</td>\n",
       "      <td>...</td>\n",
       "      <td>...</td>\n",
       "      <td>...</td>\n",
       "      <td>...</td>\n",
       "      <td>...</td>\n",
       "      <td>...</td>\n",
       "      <td>...</td>\n",
       "      <td>...</td>\n",
       "      <td>...</td>\n",
       "      <td>...</td>\n",
       "    </tr>\n",
       "    <tr>\n",
       "      <th>18063</th>\n",
       "      <td>1534</td>\n",
       "      <td>Альберт</td>\n",
       "      <td>25</td>\n",
       "      <td>Краснодар</td>\n",
       "      <td>free</td>\n",
       "      <td>3781.10</td>\n",
       "      <td>20.0</td>\n",
       "      <td>2021-11-04</td>\n",
       "      <td>11</td>\n",
       "      <td>8</td>\n",
       "      <td>50</td>\n",
       "      <td>0</td>\n",
       "    </tr>\n",
       "    <tr>\n",
       "      <th>18064</th>\n",
       "      <td>1534</td>\n",
       "      <td>Альберт</td>\n",
       "      <td>25</td>\n",
       "      <td>Краснодар</td>\n",
       "      <td>free</td>\n",
       "      <td>2840.42</td>\n",
       "      <td>22.0</td>\n",
       "      <td>2021-11-16</td>\n",
       "      <td>11</td>\n",
       "      <td>8</td>\n",
       "      <td>50</td>\n",
       "      <td>0</td>\n",
       "    </tr>\n",
       "    <tr>\n",
       "      <th>18065</th>\n",
       "      <td>1534</td>\n",
       "      <td>Альберт</td>\n",
       "      <td>25</td>\n",
       "      <td>Краснодар</td>\n",
       "      <td>free</td>\n",
       "      <td>3826.19</td>\n",
       "      <td>19.0</td>\n",
       "      <td>2021-11-18</td>\n",
       "      <td>11</td>\n",
       "      <td>8</td>\n",
       "      <td>50</td>\n",
       "      <td>0</td>\n",
       "    </tr>\n",
       "    <tr>\n",
       "      <th>18066</th>\n",
       "      <td>1534</td>\n",
       "      <td>Альберт</td>\n",
       "      <td>25</td>\n",
       "      <td>Краснодар</td>\n",
       "      <td>free</td>\n",
       "      <td>2902.31</td>\n",
       "      <td>17.0</td>\n",
       "      <td>2021-11-27</td>\n",
       "      <td>11</td>\n",
       "      <td>8</td>\n",
       "      <td>50</td>\n",
       "      <td>0</td>\n",
       "    </tr>\n",
       "    <tr>\n",
       "      <th>18067</th>\n",
       "      <td>1534</td>\n",
       "      <td>Альберт</td>\n",
       "      <td>25</td>\n",
       "      <td>Краснодар</td>\n",
       "      <td>free</td>\n",
       "      <td>2371.71</td>\n",
       "      <td>16.0</td>\n",
       "      <td>2021-12-29</td>\n",
       "      <td>12</td>\n",
       "      <td>8</td>\n",
       "      <td>50</td>\n",
       "      <td>0</td>\n",
       "    </tr>\n",
       "  </tbody>\n",
       "</table>\n",
       "<p>11568 rows × 12 columns</p>\n",
       "</div>"
      ],
      "text/plain": [
       "       user_id     name  age       city subscription_type  distance  duration  \\\n",
       "6500       700    Айдар   22       Омск              free   2515.69      15.0   \n",
       "6501       700    Айдар   22       Омск              free    846.93      17.0   \n",
       "6502       700    Айдар   22       Омск              free   4004.43      21.0   \n",
       "6503       700    Айдар   22       Омск              free   1205.91      10.0   \n",
       "6504       700    Айдар   22       Омск              free   3047.38      18.0   \n",
       "...        ...      ...  ...        ...               ...       ...       ...   \n",
       "18063     1534  Альберт   25  Краснодар              free   3781.10      20.0   \n",
       "18064     1534  Альберт   25  Краснодар              free   2840.42      22.0   \n",
       "18065     1534  Альберт   25  Краснодар              free   3826.19      19.0   \n",
       "18066     1534  Альберт   25  Краснодар              free   2902.31      17.0   \n",
       "18067     1534  Альберт   25  Краснодар              free   2371.71      16.0   \n",
       "\n",
       "            date  month  minute_price  start_ride_price  subscription_fee  \n",
       "6500  2021-01-02      1             8                50                 0  \n",
       "6501  2021-02-01      2             8                50                 0  \n",
       "6502  2021-02-04      2             8                50                 0  \n",
       "6503  2021-02-10      2             8                50                 0  \n",
       "6504  2021-02-14      2             8                50                 0  \n",
       "...          ...    ...           ...               ...               ...  \n",
       "18063 2021-11-04     11             8                50                 0  \n",
       "18064 2021-11-16     11             8                50                 0  \n",
       "18065 2021-11-18     11             8                50                 0  \n",
       "18066 2021-11-27     11             8                50                 0  \n",
       "18067 2021-12-29     12             8                50                 0  \n",
       "\n",
       "[11568 rows x 12 columns]"
      ]
     },
     "metadata": {},
     "output_type": "display_data"
    },
    {
     "data": {
      "text/html": [
       "<div>\n",
       "<style scoped>\n",
       "    .dataframe tbody tr th:only-of-type {\n",
       "        vertical-align: middle;\n",
       "    }\n",
       "\n",
       "    .dataframe tbody tr th {\n",
       "        vertical-align: top;\n",
       "    }\n",
       "\n",
       "    .dataframe thead th {\n",
       "        text-align: right;\n",
       "    }\n",
       "</style>\n",
       "<table border=\"1\" class=\"dataframe\">\n",
       "  <thead>\n",
       "    <tr style=\"text-align: right;\">\n",
       "      <th></th>\n",
       "      <th>user_id</th>\n",
       "      <th>name</th>\n",
       "      <th>age</th>\n",
       "      <th>city</th>\n",
       "      <th>subscription_type</th>\n",
       "      <th>distance</th>\n",
       "      <th>duration</th>\n",
       "      <th>date</th>\n",
       "      <th>month</th>\n",
       "      <th>minute_price</th>\n",
       "      <th>start_ride_price</th>\n",
       "      <th>subscription_fee</th>\n",
       "    </tr>\n",
       "  </thead>\n",
       "  <tbody>\n",
       "    <tr>\n",
       "      <th>0</th>\n",
       "      <td>1</td>\n",
       "      <td>Кира</td>\n",
       "      <td>22</td>\n",
       "      <td>Тюмень</td>\n",
       "      <td>ultra</td>\n",
       "      <td>4409.92</td>\n",
       "      <td>26.0</td>\n",
       "      <td>2021-01-01</td>\n",
       "      <td>1</td>\n",
       "      <td>6</td>\n",
       "      <td>0</td>\n",
       "      <td>199</td>\n",
       "    </tr>\n",
       "    <tr>\n",
       "      <th>1</th>\n",
       "      <td>1</td>\n",
       "      <td>Кира</td>\n",
       "      <td>22</td>\n",
       "      <td>Тюмень</td>\n",
       "      <td>ultra</td>\n",
       "      <td>2617.59</td>\n",
       "      <td>16.0</td>\n",
       "      <td>2021-01-18</td>\n",
       "      <td>1</td>\n",
       "      <td>6</td>\n",
       "      <td>0</td>\n",
       "      <td>199</td>\n",
       "    </tr>\n",
       "    <tr>\n",
       "      <th>2</th>\n",
       "      <td>1</td>\n",
       "      <td>Кира</td>\n",
       "      <td>22</td>\n",
       "      <td>Тюмень</td>\n",
       "      <td>ultra</td>\n",
       "      <td>754.16</td>\n",
       "      <td>7.0</td>\n",
       "      <td>2021-04-20</td>\n",
       "      <td>4</td>\n",
       "      <td>6</td>\n",
       "      <td>0</td>\n",
       "      <td>199</td>\n",
       "    </tr>\n",
       "    <tr>\n",
       "      <th>3</th>\n",
       "      <td>1</td>\n",
       "      <td>Кира</td>\n",
       "      <td>22</td>\n",
       "      <td>Тюмень</td>\n",
       "      <td>ultra</td>\n",
       "      <td>2694.78</td>\n",
       "      <td>19.0</td>\n",
       "      <td>2021-08-11</td>\n",
       "      <td>8</td>\n",
       "      <td>6</td>\n",
       "      <td>0</td>\n",
       "      <td>199</td>\n",
       "    </tr>\n",
       "    <tr>\n",
       "      <th>4</th>\n",
       "      <td>1</td>\n",
       "      <td>Кира</td>\n",
       "      <td>22</td>\n",
       "      <td>Тюмень</td>\n",
       "      <td>ultra</td>\n",
       "      <td>4028.69</td>\n",
       "      <td>27.0</td>\n",
       "      <td>2021-08-28</td>\n",
       "      <td>8</td>\n",
       "      <td>6</td>\n",
       "      <td>0</td>\n",
       "      <td>199</td>\n",
       "    </tr>\n",
       "    <tr>\n",
       "      <th>...</th>\n",
       "      <td>...</td>\n",
       "      <td>...</td>\n",
       "      <td>...</td>\n",
       "      <td>...</td>\n",
       "      <td>...</td>\n",
       "      <td>...</td>\n",
       "      <td>...</td>\n",
       "      <td>...</td>\n",
       "      <td>...</td>\n",
       "      <td>...</td>\n",
       "      <td>...</td>\n",
       "      <td>...</td>\n",
       "    </tr>\n",
       "    <tr>\n",
       "      <th>6495</th>\n",
       "      <td>699</td>\n",
       "      <td>Оксана</td>\n",
       "      <td>22</td>\n",
       "      <td>Москва</td>\n",
       "      <td>ultra</td>\n",
       "      <td>3973.05</td>\n",
       "      <td>25.0</td>\n",
       "      <td>2021-08-29</td>\n",
       "      <td>8</td>\n",
       "      <td>6</td>\n",
       "      <td>0</td>\n",
       "      <td>199</td>\n",
       "    </tr>\n",
       "    <tr>\n",
       "      <th>6496</th>\n",
       "      <td>699</td>\n",
       "      <td>Оксана</td>\n",
       "      <td>22</td>\n",
       "      <td>Москва</td>\n",
       "      <td>ultra</td>\n",
       "      <td>3288.70</td>\n",
       "      <td>16.0</td>\n",
       "      <td>2021-09-12</td>\n",
       "      <td>9</td>\n",
       "      <td>6</td>\n",
       "      <td>0</td>\n",
       "      <td>199</td>\n",
       "    </tr>\n",
       "    <tr>\n",
       "      <th>6497</th>\n",
       "      <td>699</td>\n",
       "      <td>Оксана</td>\n",
       "      <td>22</td>\n",
       "      <td>Москва</td>\n",
       "      <td>ultra</td>\n",
       "      <td>3076.16</td>\n",
       "      <td>15.0</td>\n",
       "      <td>2021-09-26</td>\n",
       "      <td>9</td>\n",
       "      <td>6</td>\n",
       "      <td>0</td>\n",
       "      <td>199</td>\n",
       "    </tr>\n",
       "    <tr>\n",
       "      <th>6498</th>\n",
       "      <td>699</td>\n",
       "      <td>Оксана</td>\n",
       "      <td>22</td>\n",
       "      <td>Москва</td>\n",
       "      <td>ultra</td>\n",
       "      <td>4707.85</td>\n",
       "      <td>16.0</td>\n",
       "      <td>2021-10-17</td>\n",
       "      <td>10</td>\n",
       "      <td>6</td>\n",
       "      <td>0</td>\n",
       "      <td>199</td>\n",
       "    </tr>\n",
       "    <tr>\n",
       "      <th>6499</th>\n",
       "      <td>699</td>\n",
       "      <td>Оксана</td>\n",
       "      <td>22</td>\n",
       "      <td>Москва</td>\n",
       "      <td>ultra</td>\n",
       "      <td>3202.89</td>\n",
       "      <td>26.0</td>\n",
       "      <td>2021-12-03</td>\n",
       "      <td>12</td>\n",
       "      <td>6</td>\n",
       "      <td>0</td>\n",
       "      <td>199</td>\n",
       "    </tr>\n",
       "  </tbody>\n",
       "</table>\n",
       "<p>6500 rows × 12 columns</p>\n",
       "</div>"
      ],
      "text/plain": [
       "      user_id    name  age    city subscription_type  distance  duration  \\\n",
       "0           1    Кира   22  Тюмень             ultra   4409.92      26.0   \n",
       "1           1    Кира   22  Тюмень             ultra   2617.59      16.0   \n",
       "2           1    Кира   22  Тюмень             ultra    754.16       7.0   \n",
       "3           1    Кира   22  Тюмень             ultra   2694.78      19.0   \n",
       "4           1    Кира   22  Тюмень             ultra   4028.69      27.0   \n",
       "...       ...     ...  ...     ...               ...       ...       ...   \n",
       "6495      699  Оксана   22  Москва             ultra   3973.05      25.0   \n",
       "6496      699  Оксана   22  Москва             ultra   3288.70      16.0   \n",
       "6497      699  Оксана   22  Москва             ultra   3076.16      15.0   \n",
       "6498      699  Оксана   22  Москва             ultra   4707.85      16.0   \n",
       "6499      699  Оксана   22  Москва             ultra   3202.89      26.0   \n",
       "\n",
       "           date  month  minute_price  start_ride_price  subscription_fee  \n",
       "0    2021-01-01      1             6                 0               199  \n",
       "1    2021-01-18      1             6                 0               199  \n",
       "2    2021-04-20      4             6                 0               199  \n",
       "3    2021-08-11      8             6                 0               199  \n",
       "4    2021-08-28      8             6                 0               199  \n",
       "...         ...    ...           ...               ...               ...  \n",
       "6495 2021-08-29      8             6                 0               199  \n",
       "6496 2021-09-12      9             6                 0               199  \n",
       "6497 2021-09-26      9             6                 0               199  \n",
       "6498 2021-10-17     10             6                 0               199  \n",
       "6499 2021-12-03     12             6                 0               199  \n",
       "\n",
       "[6500 rows x 12 columns]"
      ]
     },
     "metadata": {},
     "output_type": "display_data"
    }
   ],
   "source": [
    "display(general_df)\n",
    "display(subscription_free)\n",
    "display(subscription_ultra)"
   ]
  },
  {
   "cell_type": "code",
   "execution_count": 32,
   "id": "b7a77851",
   "metadata": {},
   "outputs": [
    {
     "data": {
      "text/plain": [
       "18068"
      ]
     },
     "execution_count": 32,
     "metadata": {},
     "output_type": "execute_result"
    }
   ],
   "source": [
    "general_df.shape[0]"
   ]
  },
  {
   "cell_type": "code",
   "execution_count": 33,
   "id": "02d8f8ab",
   "metadata": {},
   "outputs": [
    {
     "data": {
      "text/plain": [
       "18068"
      ]
     },
     "execution_count": 33,
     "metadata": {},
     "output_type": "execute_result"
    }
   ],
   "source": [
    "len(subscription_free) + len(subscription_ultra)"
   ]
  },
  {
   "cell_type": "markdown",
   "id": "02b36f17",
   "metadata": {},
   "source": [
    "**4.3 Визуализируем информацию о расстоянии и времени поездок**"
   ]
  },
  {
   "cell_type": "code",
   "execution_count": 34,
   "id": "7baa83b8",
   "metadata": {},
   "outputs": [
    {
     "data": {
      "image/png": "[encoded data removed]",
      "text/plain": [
       "<Figure size 432x288 with 1 Axes>"
      ]
     },
     "metadata": {
      "needs_background": "light"
     },
     "output_type": "display_data"
    }
   ],
   "source": [
    "subscription_free['distance'].hist(bins=100, range=(1, 7000), label='free')\n",
    "subscription_ultra['distance'].hist(bins=100, range=(1, 7000), label='ultra')\n",
    "plt.legend()\n",
    "plt.xlabel('Расстояние')\n",
    "plt.ylabel('Количество поездок')\n",
    "plt.show()"
   ]
  },
  {
   "cell_type": "code",
   "execution_count": 35,
   "id": "c490e95e",
   "metadata": {},
   "outputs": [
    {
     "data": {
      "text/plain": [
       "count    11568.000000\n",
       "mean      3045.495284\n",
       "std       1246.173810\n",
       "min          0.860000\n",
       "25%       2366.560000\n",
       "50%       3114.650000\n",
       "75%       3905.695000\n",
       "max       7211.010000\n",
       "Name: distance, dtype: float64"
      ]
     },
     "execution_count": 35,
     "metadata": {},
     "output_type": "execute_result"
    }
   ],
   "source": [
    "subscription_free['distance'].describe()"
   ]
  },
  {
   "cell_type": "code",
   "execution_count": 36,
   "id": "26d78f0f",
   "metadata": {},
   "outputs": [
    {
     "data": {
      "text/plain": [
       "count    6500.000000\n",
       "mean     3115.445431\n",
       "std       836.895369\n",
       "min       244.210000\n",
       "25%      2785.447500\n",
       "50%      3148.640000\n",
       "75%      3560.577500\n",
       "max      5699.770000\n",
       "Name: distance, dtype: float64"
      ]
     },
     "execution_count": 36,
     "metadata": {},
     "output_type": "execute_result"
    }
   ],
   "source": [
    "subscription_ultra['distance'].describe()"
   ]
  },
  {
   "cell_type": "markdown",
   "id": "4f45bd3d",
   "metadata": {},
   "source": [
    "**Вывод:**"
   ]
  },
  {
   "cell_type": "markdown",
   "id": "1e964623",
   "metadata": {},
   "source": [
    "После визуализации данных мы видим, что подписка влияет на стандартное отклонение (у subscription_ultra оно ниже), а так же на медианное значение. Пользователи без подписки в среднем проезжаюь 3045.5 метров, тогда как пользователи с подпиской - 3115.5 метров. На обеих гистограммах мы видим пики около нуля, мне кажется, что это неисправность самокатов: поехал, обнаружил неисправность, поставил через несколько метров."
   ]
  },
  {
   "cell_type": "code",
   "execution_count": 37,
   "id": "23fdd0ae",
   "metadata": {
    "scrolled": true
   },
   "outputs": [
    {
     "data": {
      "image/png": "[encoded data removed]",
      "text/plain": [
       "<Figure size 432x288 with 1 Axes>"
      ]
     },
     "metadata": {
      "needs_background": "light"
     },
     "output_type": "display_data"
    }
   ],
   "source": [
    "subscription_free['duration'].hist(bins=100, range=(1, 40), label='free')\n",
    "subscription_ultra['duration'].hist(bins=100, range=(1, 40), label='ultra')\n",
    "plt.legend()\n",
    "plt.xlabel('Расстояние')\n",
    "plt.ylabel('Количество поездок')\n",
    "plt.show()"
   ]
  },
  {
   "cell_type": "code",
   "execution_count": 38,
   "id": "6b598593",
   "metadata": {},
   "outputs": [
    {
     "data": {
      "text/plain": [
       "count    11568.000000\n",
       "mean        17.890992\n",
       "std          6.330250\n",
       "min          1.000000\n",
       "25%         13.000000\n",
       "50%         18.000000\n",
       "75%         22.000000\n",
       "max         35.000000\n",
       "Name: duration, dtype: float64"
      ]
     },
     "execution_count": 38,
     "metadata": {},
     "output_type": "execute_result"
    }
   ],
   "source": [
    "subscription_free['duration'].describe()"
   ]
  },
  {
   "cell_type": "code",
   "execution_count": 39,
   "id": "ad805085",
   "metadata": {},
   "outputs": [
    {
     "data": {
      "text/plain": [
       "count    6500.000000\n",
       "mean       19.037692\n",
       "std         5.577439\n",
       "min         4.000000\n",
       "25%        15.000000\n",
       "50%        19.000000\n",
       "75%        22.000000\n",
       "max        41.000000\n",
       "Name: duration, dtype: float64"
      ]
     },
     "execution_count": 39,
     "metadata": {},
     "output_type": "execute_result"
    }
   ],
   "source": [
    "subscription_ultra['duration'].describe()"
   ]
  },
  {
   "cell_type": "markdown",
   "id": "e5d1759f",
   "metadata": {},
   "source": [
    "**Вывод:**"
   ]
  },
  {
   "cell_type": "markdown",
   "id": "21ccfda9",
   "metadata": {},
   "source": [
    "Анализируя время поездки, мы так же видим, что наличие подписки влияет и на среднее, и на медианное значение - у подписки ультра эти показатели выше, а стандартное отклонение снова меньше."
   ]
  },
  {
   "cell_type": "markdown",
   "id": "5110957b",
   "metadata": {},
   "source": [
    "**Общий вывод по разделу:**"
   ]
  },
  {
   "cell_type": "markdown",
   "id": "5ec88243",
   "metadata": {},
   "source": [
    "Объединив три данные нам таблицы в одну общую и визуализировав последнюю, мы выяснили, что имеющаяся подписка влияет и на расстояние, преодоленное на самокате, и на время пользования."
   ]
  },
  {
   "cell_type": "markdown",
   "id": "402d620f",
   "metadata": {},
   "source": [
    "#### Шаг 5. Подсчёт выручки"
   ]
  },
  {
   "cell_type": "markdown",
   "id": "c19552a0",
   "metadata": {},
   "source": [
    "**5.1 Создадим датафрейм с агрегированными данными о поездках на основе датафрейма с объединёнными данными из шага 4: найдем суммарное расстояние, количество поездок и суммарное время для каждого пользователя за каждый месяц.**"
   ]
  },
  {
   "cell_type": "code",
   "execution_count": 40,
   "id": "53049e0a",
   "metadata": {},
   "outputs": [
    {
     "data": {
      "text/html": [
       "<div>\n",
       "<style scoped>\n",
       "    .dataframe tbody tr th:only-of-type {\n",
       "        vertical-align: middle;\n",
       "    }\n",
       "\n",
       "    .dataframe tbody tr th {\n",
       "        vertical-align: top;\n",
       "    }\n",
       "\n",
       "    .dataframe thead th {\n",
       "        text-align: right;\n",
       "    }\n",
       "</style>\n",
       "<table border=\"1\" class=\"dataframe\">\n",
       "  <thead>\n",
       "    <tr style=\"text-align: right;\">\n",
       "      <th></th>\n",
       "      <th></th>\n",
       "      <th>count</th>\n",
       "      <th>distance</th>\n",
       "      <th>duration</th>\n",
       "      <th>minute_price</th>\n",
       "      <th>start_ride_price</th>\n",
       "      <th>subscription_fee</th>\n",
       "    </tr>\n",
       "    <tr>\n",
       "      <th>user_id</th>\n",
       "      <th>month</th>\n",
       "      <th></th>\n",
       "      <th></th>\n",
       "      <th></th>\n",
       "      <th></th>\n",
       "      <th></th>\n",
       "      <th></th>\n",
       "    </tr>\n",
       "  </thead>\n",
       "  <tbody>\n",
       "    <tr>\n",
       "      <th rowspan=\"6\" valign=\"top\">1</th>\n",
       "      <th>1</th>\n",
       "      <td>2</td>\n",
       "      <td>7027.51</td>\n",
       "      <td>42.0</td>\n",
       "      <td>6</td>\n",
       "      <td>0</td>\n",
       "      <td>199</td>\n",
       "    </tr>\n",
       "    <tr>\n",
       "      <th>4</th>\n",
       "      <td>1</td>\n",
       "      <td>754.16</td>\n",
       "      <td>7.0</td>\n",
       "      <td>6</td>\n",
       "      <td>0</td>\n",
       "      <td>199</td>\n",
       "    </tr>\n",
       "    <tr>\n",
       "      <th>8</th>\n",
       "      <td>2</td>\n",
       "      <td>6723.47</td>\n",
       "      <td>46.0</td>\n",
       "      <td>6</td>\n",
       "      <td>0</td>\n",
       "      <td>199</td>\n",
       "    </tr>\n",
       "    <tr>\n",
       "      <th>10</th>\n",
       "      <td>2</td>\n",
       "      <td>5809.91</td>\n",
       "      <td>32.0</td>\n",
       "      <td>6</td>\n",
       "      <td>0</td>\n",
       "      <td>199</td>\n",
       "    </tr>\n",
       "    <tr>\n",
       "      <th>11</th>\n",
       "      <td>3</td>\n",
       "      <td>7003.50</td>\n",
       "      <td>56.0</td>\n",
       "      <td>6</td>\n",
       "      <td>0</td>\n",
       "      <td>199</td>\n",
       "    </tr>\n",
       "    <tr>\n",
       "      <th>12</th>\n",
       "      <td>2</td>\n",
       "      <td>6751.63</td>\n",
       "      <td>28.0</td>\n",
       "      <td>6</td>\n",
       "      <td>0</td>\n",
       "      <td>199</td>\n",
       "    </tr>\n",
       "    <tr>\n",
       "      <th rowspan=\"4\" valign=\"top\">2</th>\n",
       "      <th>3</th>\n",
       "      <td>3</td>\n",
       "      <td>10187.73</td>\n",
       "      <td>63.0</td>\n",
       "      <td>6</td>\n",
       "      <td>0</td>\n",
       "      <td>199</td>\n",
       "    </tr>\n",
       "    <tr>\n",
       "      <th>4</th>\n",
       "      <td>2</td>\n",
       "      <td>6164.39</td>\n",
       "      <td>40.0</td>\n",
       "      <td>6</td>\n",
       "      <td>0</td>\n",
       "      <td>199</td>\n",
       "    </tr>\n",
       "    <tr>\n",
       "      <th>6</th>\n",
       "      <td>1</td>\n",
       "      <td>3255.34</td>\n",
       "      <td>14.0</td>\n",
       "      <td>6</td>\n",
       "      <td>0</td>\n",
       "      <td>199</td>\n",
       "    </tr>\n",
       "    <tr>\n",
       "      <th>7</th>\n",
       "      <td>2</td>\n",
       "      <td>6780.73</td>\n",
       "      <td>48.0</td>\n",
       "      <td>6</td>\n",
       "      <td>0</td>\n",
       "      <td>199</td>\n",
       "    </tr>\n",
       "  </tbody>\n",
       "</table>\n",
       "</div>"
      ],
      "text/plain": [
       "               count  distance  duration  minute_price  start_ride_price  \\\n",
       "user_id month                                                              \n",
       "1       1          2   7027.51      42.0             6                 0   \n",
       "        4          1    754.16       7.0             6                 0   \n",
       "        8          2   6723.47      46.0             6                 0   \n",
       "        10         2   5809.91      32.0             6                 0   \n",
       "        11         3   7003.50      56.0             6                 0   \n",
       "        12         2   6751.63      28.0             6                 0   \n",
       "2       3          3  10187.73      63.0             6                 0   \n",
       "        4          2   6164.39      40.0             6                 0   \n",
       "        6          1   3255.34      14.0             6                 0   \n",
       "        7          2   6780.73      48.0             6                 0   \n",
       "\n",
       "               subscription_fee  \n",
       "user_id month                    \n",
       "1       1                   199  \n",
       "        4                   199  \n",
       "        8                   199  \n",
       "        10                  199  \n",
       "        11                  199  \n",
       "        12                  199  \n",
       "2       3                   199  \n",
       "        4                   199  \n",
       "        6                   199  \n",
       "        7                   199  "
      ]
     },
     "execution_count": 40,
     "metadata": {},
     "output_type": "execute_result"
    }
   ],
   "source": [
    "users_income = general_df.pivot_table(\n",
    "    index=('user_id', 'month'), \n",
    "    values=(\n",
    "        'distance', \n",
    "        'duration', \n",
    "        'minute_price', \n",
    "        'start_ride_price', \n",
    "        'subscription_fee'\n",
    "    ), \n",
    "    aggfunc=({'distance':{'count', 'sum'}, \n",
    "             'duration':'sum',\n",
    "             'minute_price': 'mean',\n",
    "             'start_ride_price':'mean',\n",
    "             'subscription_fee':'mean',})\n",
    ")\n",
    "users_income.columns = [\n",
    "    'count', 'distance', \n",
    "    'duration', \n",
    "    'minute_price',\n",
    "    'start_ride_price', \n",
    "    'subscription_fee'\n",
    "]\n",
    "users_income.head(10)"
   ]
  },
  {
   "cell_type": "code",
   "execution_count": 41,
   "id": "d2c9b539",
   "metadata": {},
   "outputs": [
    {
     "data": {
      "text/plain": [
       "count               0\n",
       "distance            0\n",
       "duration            0\n",
       "minute_price        0\n",
       "start_ride_price    0\n",
       "subscription_fee    0\n",
       "dtype: int64"
      ]
     },
     "execution_count": 41,
     "metadata": {},
     "output_type": "execute_result"
    }
   ],
   "source": [
    "users_income.isna().sum()"
   ]
  },
  {
   "cell_type": "markdown",
   "id": "63d10199",
   "metadata": {},
   "source": [
    "**5.2 В этот же датафрейм добавим столбец с помесячной выручкой, которую принёс каждый пользователь.** "
   ]
  },
  {
   "cell_type": "markdown",
   "id": "cbd7dd7f",
   "metadata": {},
   "source": [
    "Чтобы найти выручку за месяц, нам нужно сложить: "
   ]
  },
  {
   "cell_type": "markdown",
   "id": "c9a36a89",
   "metadata": {},
   "source": [
    "1. произведение ***стоимости начала поездки*** и ***количества поездок***"
   ]
  },
  {
   "cell_type": "markdown",
   "id": "69a0a1eb",
   "metadata": {},
   "source": [
    "2. произведение ***стоимости одной минуты*** и ***продолжительности поездки***"
   ]
  },
  {
   "cell_type": "markdown",
   "id": "f659c5a9",
   "metadata": {},
   "source": [
    "3. ***стоимость ежемесячного платежа***"
   ]
  },
  {
   "cell_type": "code",
   "execution_count": 42,
   "id": "c872b9b5",
   "metadata": {},
   "outputs": [
    {
     "name": "stdout",
     "output_type": "stream",
     "text": [
      "3878641.0\n"
     ]
    }
   ],
   "source": [
    "users_income['income'] = users_income['start_ride_price'] * users_income['count'] + users_income['minute_price'] * users_income['duration'] + users_income['subscription_fee']\n",
    "users_income['income']\n",
    "print(users_income['income'].sum())"
   ]
  },
  {
   "cell_type": "markdown",
   "id": "250935a8",
   "metadata": {},
   "source": [
    "**Вывод:**"
   ]
  },
  {
   "cell_type": "markdown",
   "id": "1b04be45",
   "metadata": {},
   "source": [
    "Выручка за год составила 3 878 641 рублей."
   ]
  },
  {
   "cell_type": "markdown",
   "id": "41545ac0",
   "metadata": {},
   "source": [
    "#### Шаг 6. Проверка гипотез"
   ]
  },
  {
   "cell_type": "markdown",
   "id": "d8ba9438",
   "metadata": {},
   "source": [
    "**6.1 Выясним, тратит ли пользователь с подпиской больше времени на поездки.**"
   ]
  },
  {
   "cell_type": "markdown",
   "id": "5bfaaeb2",
   "metadata": {},
   "source": [
    "Воспользуемся методом ind"
   ]
  },
  {
   "cell_type": "markdown",
   "id": "5d46b444",
   "metadata": {},
   "source": [
    "H0: Продолжительность поездок у пользователей с подпиской равно продолжительности поездок у пользователей без подписок. "
   ]
  },
  {
   "cell_type": "markdown",
   "id": "db55455b",
   "metadata": {},
   "source": [
    "H1: Продолжительность поездок у пользователей с подпиской больше продолжительности поездок у пользователей без подписок."
   ]
  },
  {
   "cell_type": "code",
   "execution_count": 43,
   "id": "049edaf3",
   "metadata": {},
   "outputs": [
    {
     "name": "stdout",
     "output_type": "stream",
     "text": [
      "2.4959453720736625e-34\n",
      "Отвергаем нулевую гипотезу\n"
     ]
    }
   ],
   "source": [
    "alpha = 0.05\n",
    "results = st.ttest_ind(subscription_ultra['duration'], subscription_free['duration'], alternative='greater')\n",
    "print(results.pvalue)\n",
    "if results.pvalue < alpha:\n",
    "    print('Отвергаем нулевую гипотезу')\n",
    "else:\n",
    "    print('Не отвергаем нулевую гипотезу')\n"
   ]
  },
  {
   "cell_type": "markdown",
   "id": "fd3e2d8e",
   "metadata": {},
   "source": [
    "**Вывод:** Мы можем предполагать, что продолжительность поездок у пользователей с подпиской больше, т.к. нулевая теория отвергнута."
   ]
  },
  {
   "cell_type": "markdown",
   "id": "5cfc90d1",
   "metadata": {},
   "source": [
    "**6.2 Выясним,  не превышает ли среднее растояние, которое проезжают пользователи за одну поездку, 3130 метров.**"
   ]
  },
  {
   "cell_type": "markdown",
   "id": "82ba9cfd",
   "metadata": {},
   "source": [
    "Воспользуемся методом 1samp"
   ]
  },
  {
   "cell_type": "markdown",
   "id": "aacdfee0",
   "metadata": {},
   "source": [
    "H0: Среднее расстояние, преодоленное пользователем с подпиской за одну поездку, равно 3130 метров."
   ]
  },
  {
   "cell_type": "markdown",
   "id": "3450fb40",
   "metadata": {},
   "source": [
    "H1: Среднее расстояние, преодоленное пользователем с подпиской за одну поездку, превышает 3130 метров."
   ]
  },
  {
   "cell_type": "code",
   "execution_count": 44,
   "id": "527c83a2",
   "metadata": {},
   "outputs": [
    {
     "name": "stdout",
     "output_type": "stream",
     "text": [
      "0.9195362605842414\n",
      "Не отвергаем нулевую гипотезу\n"
     ]
    }
   ],
   "source": [
    "alpha = 0.05\n",
    "dist = 3130\n",
    "results = st.ttest_1samp(subscription_ultra['distance'], dist, alternative='greater')\n",
    "print(results.pvalue)\n",
    "if results.pvalue < alpha:\n",
    "    print('Отвергаем нулевую гипотезу')\n",
    "else:\n",
    "    print('Не отвергаем нулевую гипотезу')"
   ]
  },
  {
   "cell_type": "markdown",
   "id": "2e2810a4",
   "metadata": {},
   "source": [
    "**Вывод:** Не получилось отвергнуть нулевую гипотезу, значит можем предполагать, что расстояние, пройденное пользователями с подпиской в среднем не превышает 3130 метров."
   ]
  },
  {
   "cell_type": "markdown",
   "id": "8736422d",
   "metadata": {},
   "source": []
  },
  {
   "cell_type": "markdown",
   "id": "90039307",
   "metadata": {},
   "source": [
    "**6.3 Выясним, будет ли помесячная выручка от пользователей с подпиской больше, чем от пользователей без подписки.**"
   ]
  },
  {
   "cell_type": "markdown",
   "id": "6f321dac",
   "metadata": {},
   "source": [
    "Воспользуемся методом ind"
   ]
  },
  {
   "cell_type": "markdown",
   "id": "65f14ebb",
   "metadata": {},
   "source": [
    "H0: Помесячная выручка от пользователей с подпиской равна помесячной выручке от пользователей без подписки"
   ]
  },
  {
   "cell_type": "markdown",
   "id": "dc5e6fbe",
   "metadata": {},
   "source": [
    "H1: Помесячная выручка от пользователей с подпиской больше, чем помесячная выручка от пользователей без подписки"
   ]
  },
  {
   "cell_type": "code",
   "execution_count": 45,
   "id": "ef0a7c6e",
   "metadata": {},
   "outputs": [
    {
     "name": "stdout",
     "output_type": "stream",
     "text": [
      "1.8850394384715216e-31\n",
      "Отвергаем нулевую гипотезу\n"
     ]
    }
   ],
   "source": [
    "alpha = 0.05\n",
    "results = st.ttest_ind(\n",
    "    users_income.loc[users_income['subscription_fee']>0, 'income'],\n",
    "    users_income.loc[users_income['subscription_fee']==0, 'income'],\n",
    "    alternative='greater'\n",
    ")\n",
    "print(results.pvalue)\n",
    "if results.pvalue < alpha:\n",
    "    print('Отвергаем нулевую гипотезу')\n",
    "else:\n",
    "    print('Не отвергаем нулевую гипотезу')"
   ]
  },
  {
   "cell_type": "markdown",
   "id": "f8a9d4d3",
   "metadata": {},
   "source": [
    "**Вывод:** Нулевая гипотеза отвергнута, значит можно утверждать, что помесячная выручка от пользователей с подпиской больше, чем помесячная выручка от пользователей без подписки."
   ]
  },
  {
   "cell_type": "markdown",
   "id": "88682002",
   "metadata": {},
   "source": [
    "**6.4 Представьте такую ситуацию: техническая команда сервиса обновила сервера, с которыми взаимодействует мобильное приложение. Она надеется, что из-за этого количество обращений в техподдержку значимо снизилось. Некоторый файл содержит для каждого пользователя данные о количестве обращений до обновления и после него. Какой тест вам понадобился бы для проверки этой гипотезы?**"
   ]
  },
  {
   "cell_type": "markdown",
   "id": "60e11e5c",
   "metadata": {},
   "source": [
    "Мы воспользуемся методом rel, потому что проверяем гипотезу о равенстве средних для зависимых выборок, в данном случае до и после изменения файла."
   ]
  },
  {
   "cell_type": "markdown",
   "id": "61213c5e",
   "metadata": {},
   "source": [
    "#### Шаг 7. Распределения"
   ]
  },
  {
   "cell_type": "markdown",
   "id": "7af1a207",
   "metadata": {},
   "source": [
    "Я не успеваю пройти это задание =("
   ]
  },
  {
   "cell_type": "markdown",
   "id": "ad01ccca",
   "metadata": {},
   "source": [
    "# Общий вывод:"
   ]
  },
  {
   "cell_type": "markdown",
   "id": "f8b71baa",
   "metadata": {},
   "source": [
    "**1.** На первом шаге мы выяснили, что пропуски в датафреймах отсутствуют."
   ]
  },
  {
   "cell_type": "markdown",
   "id": "3e6f6af3",
   "metadata": {},
   "source": [
    "**1.1** В датасете ***users_go*** 1565 записей и 31 явных дубликатов"
   ]
  },
  {
   "cell_type": "markdown",
   "id": "c3350855",
   "metadata": {},
   "source": [
    "**1.2** В датасете ***rides_go*** 18068 записей, явные дубликаты отсутствуют"
   ]
  },
  {
   "cell_type": "markdown",
   "id": "f4469580",
   "metadata": {},
   "source": [
    "**1.3** В датасете ***subscriptions_go*** всего две записи, без дубликатов"
   ]
  },
  {
   "cell_type": "markdown",
   "id": "1d53ad8c",
   "metadata": {},
   "source": [
    "**2.** На этом шаге мы удалили явные дубликаты в датафрейме ***users_go***, округлили значения в столбцах *distance* и *duration* датафрейма ***rides_go***, привели столбец *date* к формату даты pandas и создали новый столбец с номерами месяцев"
   ]
  },
  {
   "cell_type": "markdown",
   "id": "7b117531",
   "metadata": {},
   "source": [
    "**3.** На данном этапе мы выяснили:"
   ]
  },
  {
   "cell_type": "markdown",
   "id": "fc94fa60",
   "metadata": {},
   "source": [
    "**3.1** Тройку городов-лидеров по пользователям сервиса являются Пятигорск, Екатеринбург и Ростов-на-Дону, а Москва занимает последнее место."
   ]
  },
  {
   "cell_type": "markdown",
   "id": "9d7943d5",
   "metadata": {},
   "source": [
    "**3.2** Пользователей без подписки немного больше, чем с подпиской - 54% против 46%"
   ]
  },
  {
   "cell_type": "markdown",
   "id": "1443d217",
   "metadata": {},
   "source": [
    "**3.3** 25 лет - средний возраст самокатчика"
   ]
  },
  {
   "cell_type": "markdown",
   "id": "9b844b08",
   "metadata": {},
   "source": [
    "**3.4** В среднем самокатчики преодолевают 3 километра за одну поезду и тратят 18 минут"
   ]
  },
  {
   "cell_type": "markdown",
   "id": "20a92a3c",
   "metadata": {},
   "source": [
    "**4.** На этом этапе мы объедили 3 датафрейма в один общий, который в последствии визуализировали.Так же выяснили, что подписка влияет на пройденное расстояние и время пользования самокатом."
   ]
  },
  {
   "cell_type": "markdown",
   "id": "12f38cd9",
   "metadata": {},
   "source": [
    "**5.** Создали агрегированный датафрейм и нашли суммарное расстояние, количество поездок и суммарное время для каждого пользователя за каждый месяц. После чего добавили в этот датафрейм столбец с помесячной выручкой, которую принес каждый пользователь. Выручка за год составила **3 878 641** рублей"
   ]
  },
  {
   "cell_type": "markdown",
   "id": "3cfefb5f",
   "metadata": {},
   "source": [
    "**6.** И на последнем для нас шаге выяснили, а точнее можем предполагать, ведь давать 100%-ную гарантию по гипотезам нельзя:"
   ]
  },
  {
   "cell_type": "markdown",
   "id": "d574fd81",
   "metadata": {},
   "source": [
    "**6.1** Продолжительность поездок у пользователей с подпиской больше"
   ]
  },
  {
   "cell_type": "markdown",
   "id": "de0da755",
   "metadata": {},
   "source": [
    "**6.2** Расстояние, пройденное пользователями с подпиской в среднем не превышает 3130 метров"
   ]
  },
  {
   "cell_type": "markdown",
   "id": "57702bb1",
   "metadata": {},
   "source": [
    "**6.3** Помесячная выручка от пользователей с подпиской больше, чем помесячная выручка от пользователей без подписки"
   ]
  },
  {
   "cell_type": "markdown",
   "id": "f311667c",
   "metadata": {},
   "source": [
    "**Для сервиса по аренде самокатов более выгодными являются пользователи с подпиской. Для привлечения людей к покупке можно ввести систему промокодов на скидку или несколько дней бесплатного пробного периода. Или другие способы подтолкнуть клиентов к покупке без большого ущерба бизнесу.**"
   ]
  }
 ],
 "metadata": {
  "ExecuteTimeLog": [
   {
    "duration": 881,
    "start_time": "2024-08-16T02:37:35.271Z"
   },
   {
    "duration": 72,
    "start_time": "2024-08-16T02:37:36.231Z"
   },
   {
    "duration": 73,
    "start_time": "2024-08-16T02:38:12.730Z"
   },
   {
    "duration": 291,
    "start_time": "2024-08-16T02:38:45.963Z"
   },
   {
    "duration": 77,
    "start_time": "2024-08-16T02:39:13.474Z"
   },
   {
    "duration": 27,
    "start_time": "2024-08-16T02:42:28.556Z"
   },
   {
    "duration": 24,
    "start_time": "2024-08-16T02:42:38.743Z"
   },
   {
    "duration": 12,
    "start_time": "2024-08-16T02:46:24.365Z"
   },
   {
    "duration": 742,
    "start_time": "2024-08-16T20:35:28.799Z"
   },
   {
    "duration": 361,
    "start_time": "2024-08-16T20:35:31.246Z"
   },
   {
    "duration": 23,
    "start_time": "2024-08-16T20:35:32.698Z"
   },
   {
    "duration": 9,
    "start_time": "2024-08-16T20:35:34.325Z"
   },
   {
    "duration": 66,
    "start_time": "2024-08-16T20:35:37.905Z"
   },
   {
    "duration": 226,
    "start_time": "2024-08-16T20:36:14.503Z"
   },
   {
    "duration": 233,
    "start_time": "2024-08-16T20:36:17.043Z"
   },
   {
    "duration": 262,
    "start_time": "2024-08-16T20:36:19.552Z"
   },
   {
    "duration": 4365,
    "start_time": "2024-08-16T20:36:21.329Z"
   },
   {
    "duration": 4408,
    "start_time": "2024-08-16T20:39:46.354Z"
   },
   {
    "duration": 248,
    "start_time": "2024-08-16T20:40:02.423Z"
   },
   {
    "duration": 217,
    "start_time": "2024-08-16T20:40:06.578Z"
   },
   {
    "duration": 218,
    "start_time": "2024-08-16T20:40:18.595Z"
   },
   {
    "duration": 4552,
    "start_time": "2024-08-16T20:40:20.190Z"
   },
   {
    "duration": 4500,
    "start_time": "2024-08-16T20:49:49.673Z"
   },
   {
    "duration": 4257,
    "start_time": "2024-08-16T20:50:21.203Z"
   },
   {
    "duration": 4320,
    "start_time": "2024-08-16T20:50:32.174Z"
   },
   {
    "duration": 13,
    "start_time": "2024-08-16T21:12:02.953Z"
   },
   {
    "duration": 5,
    "start_time": "2024-08-16T21:13:07.619Z"
   },
   {
    "duration": 6,
    "start_time": "2024-08-16T21:13:10.128Z"
   },
   {
    "duration": 7,
    "start_time": "2024-08-16T21:14:50.273Z"
   },
   {
    "duration": 814,
    "start_time": "2024-08-17T09:42:12.545Z"
   },
   {
    "duration": 318,
    "start_time": "2024-08-17T09:42:13.361Z"
   },
   {
    "duration": 25,
    "start_time": "2024-08-17T09:42:15.049Z"
   },
   {
    "duration": 11,
    "start_time": "2024-08-17T09:42:15.566Z"
   },
   {
    "duration": 303,
    "start_time": "2024-08-17T09:42:15.952Z"
   },
   {
    "duration": 267,
    "start_time": "2024-08-17T09:42:16.257Z"
   },
   {
    "duration": 330,
    "start_time": "2024-08-17T09:42:16.692Z"
   },
   {
    "duration": 5000,
    "start_time": "2024-08-17T09:42:17.024Z"
   },
   {
    "duration": 7,
    "start_time": "2024-08-17T09:42:22.026Z"
   },
   {
    "duration": 7,
    "start_time": "2024-08-17T11:07:32.114Z"
   },
   {
    "duration": 5,
    "start_time": "2024-08-17T11:07:47.547Z"
   },
   {
    "duration": 736,
    "start_time": "2024-08-17T11:10:24.026Z"
   },
   {
    "duration": 7,
    "start_time": "2024-08-17T11:11:41.368Z"
   },
   {
    "duration": 4,
    "start_time": "2024-08-17T11:13:55.824Z"
   },
   {
    "duration": 11,
    "start_time": "2024-08-17T11:13:58.265Z"
   },
   {
    "duration": 4,
    "start_time": "2024-08-17T11:13:59.407Z"
   },
   {
    "duration": 15,
    "start_time": "2024-08-17T11:14:00.543Z"
   },
   {
    "duration": 6,
    "start_time": "2024-08-17T11:14:01.136Z"
   },
   {
    "duration": 66,
    "start_time": "2024-08-17T11:25:19.609Z"
   },
   {
    "duration": 71,
    "start_time": "2024-08-17T17:32:16.054Z"
   },
   {
    "duration": 937,
    "start_time": "2024-08-17T17:32:32.033Z"
   },
   {
    "duration": 312,
    "start_time": "2024-08-17T17:32:32.976Z"
   },
   {
    "duration": 26,
    "start_time": "2024-08-17T17:32:33.290Z"
   },
   {
    "duration": 15,
    "start_time": "2024-08-17T17:32:33.570Z"
   },
   {
    "duration": 292,
    "start_time": "2024-08-17T17:32:33.911Z"
   },
   {
    "duration": 305,
    "start_time": "2024-08-17T17:32:34.205Z"
   },
   {
    "duration": 453,
    "start_time": "2024-08-17T17:32:34.512Z"
   },
   {
    "duration": 5653,
    "start_time": "2024-08-17T17:32:34.968Z"
   },
   {
    "duration": 8,
    "start_time": "2024-08-17T17:32:40.623Z"
   },
   {
    "duration": 40,
    "start_time": "2024-08-17T17:32:40.633Z"
   },
   {
    "duration": 16,
    "start_time": "2024-08-17T17:32:40.678Z"
   },
   {
    "duration": 4,
    "start_time": "2024-08-17T17:32:40.696Z"
   },
   {
    "duration": 212,
    "start_time": "2024-08-17T17:32:43.507Z"
   },
   {
    "duration": 197,
    "start_time": "2024-08-17T17:35:20.819Z"
   },
   {
    "duration": 177,
    "start_time": "2024-08-17T17:36:21.501Z"
   },
   {
    "duration": 234,
    "start_time": "2024-08-17T17:37:36.700Z"
   },
   {
    "duration": 171,
    "start_time": "2024-08-17T17:37:51.847Z"
   },
   {
    "duration": 159,
    "start_time": "2024-08-17T17:39:53.708Z"
   },
   {
    "duration": 188,
    "start_time": "2024-08-17T17:40:17.559Z"
   },
   {
    "duration": 205,
    "start_time": "2024-08-17T17:41:11.172Z"
   },
   {
    "duration": 240,
    "start_time": "2024-08-17T17:41:53.308Z"
   },
   {
    "duration": 185,
    "start_time": "2024-08-17T17:42:38.189Z"
   },
   {
    "duration": 713,
    "start_time": "2024-08-17T17:43:47.274Z"
   },
   {
    "duration": 87,
    "start_time": "2024-08-17T17:43:47.988Z"
   },
   {
    "duration": 25,
    "start_time": "2024-08-17T17:43:48.077Z"
   },
   {
    "duration": 11,
    "start_time": "2024-08-17T17:43:48.104Z"
   },
   {
    "duration": 279,
    "start_time": "2024-08-17T17:43:48.118Z"
   },
   {
    "duration": 308,
    "start_time": "2024-08-17T17:43:48.399Z"
   },
   {
    "duration": 347,
    "start_time": "2024-08-17T17:43:48.709Z"
   },
   {
    "duration": 5204,
    "start_time": "2024-08-17T17:43:49.058Z"
   },
   {
    "duration": 10,
    "start_time": "2024-08-17T17:43:54.263Z"
   },
   {
    "duration": 4,
    "start_time": "2024-08-17T17:43:54.275Z"
   },
   {
    "duration": 8,
    "start_time": "2024-08-17T17:43:54.280Z"
   },
   {
    "duration": 5,
    "start_time": "2024-08-17T17:43:54.289Z"
   },
   {
    "duration": 296,
    "start_time": "2024-08-17T17:43:54.295Z"
   },
   {
    "duration": 0,
    "start_time": "2024-08-17T17:43:54.595Z"
   },
   {
    "duration": 192,
    "start_time": "2024-08-17T17:44:14.544Z"
   },
   {
    "duration": 216,
    "start_time": "2024-08-17T17:44:20.771Z"
   },
   {
    "duration": 254,
    "start_time": "2024-08-17T17:44:59.999Z"
   },
   {
    "duration": 181,
    "start_time": "2024-08-17T17:45:25.082Z"
   },
   {
    "duration": 170,
    "start_time": "2024-08-17T17:46:03.477Z"
   },
   {
    "duration": 173,
    "start_time": "2024-08-17T18:01:03.484Z"
   },
   {
    "duration": 96,
    "start_time": "2024-08-17T18:03:27.119Z"
   },
   {
    "duration": 130,
    "start_time": "2024-08-17T18:14:42.804Z"
   },
   {
    "duration": 132,
    "start_time": "2024-08-17T18:18:53.803Z"
   },
   {
    "duration": 166,
    "start_time": "2024-08-17T18:19:05.269Z"
   },
   {
    "duration": 17,
    "start_time": "2024-08-17T18:21:11.482Z"
   },
   {
    "duration": 21,
    "start_time": "2024-08-17T18:21:18.590Z"
   },
   {
    "duration": 18,
    "start_time": "2024-08-17T18:22:43.065Z"
   },
   {
    "duration": 126,
    "start_time": "2024-08-17T18:23:01.993Z"
   },
   {
    "duration": 139,
    "start_time": "2024-08-17T18:23:35.425Z"
   },
   {
    "duration": 223,
    "start_time": "2024-08-17T18:23:54.384Z"
   },
   {
    "duration": 188,
    "start_time": "2024-08-17T18:24:31.411Z"
   },
   {
    "duration": 8,
    "start_time": "2024-08-17T18:30:25.077Z"
   },
   {
    "duration": 10,
    "start_time": "2024-08-17T18:30:32.584Z"
   },
   {
    "duration": 344,
    "start_time": "2024-08-17T18:31:28.874Z"
   },
   {
    "duration": 310,
    "start_time": "2024-08-17T18:32:04.099Z"
   },
   {
    "duration": 298,
    "start_time": "2024-08-17T18:33:20.726Z"
   },
   {
    "duration": 696,
    "start_time": "2024-08-17T18:33:56.837Z"
   },
   {
    "duration": 88,
    "start_time": "2024-08-17T18:33:57.534Z"
   },
   {
    "duration": 25,
    "start_time": "2024-08-17T18:33:57.624Z"
   },
   {
    "duration": 12,
    "start_time": "2024-08-17T18:33:57.651Z"
   },
   {
    "duration": 285,
    "start_time": "2024-08-17T18:33:57.664Z"
   },
   {
    "duration": 257,
    "start_time": "2024-08-17T18:33:57.951Z"
   },
   {
    "duration": 365,
    "start_time": "2024-08-17T18:33:58.210Z"
   },
   {
    "duration": 5205,
    "start_time": "2024-08-17T18:33:58.578Z"
   },
   {
    "duration": 7,
    "start_time": "2024-08-17T18:34:03.784Z"
   },
   {
    "duration": 17,
    "start_time": "2024-08-17T18:34:03.794Z"
   },
   {
    "duration": 8,
    "start_time": "2024-08-17T18:34:03.813Z"
   },
   {
    "duration": 16,
    "start_time": "2024-08-17T18:34:03.822Z"
   },
   {
    "duration": 187,
    "start_time": "2024-08-17T18:34:03.839Z"
   },
   {
    "duration": 159,
    "start_time": "2024-08-17T18:34:04.027Z"
   },
   {
    "duration": 403,
    "start_time": "2024-08-17T18:34:04.188Z"
   },
   {
    "duration": 2,
    "start_time": "2024-08-17T18:34:25.074Z"
   },
   {
    "duration": 86,
    "start_time": "2024-08-17T18:34:28.598Z"
   },
   {
    "duration": 24,
    "start_time": "2024-08-17T18:34:28.999Z"
   },
   {
    "duration": 11,
    "start_time": "2024-08-17T18:34:29.409Z"
   },
   {
    "duration": 356,
    "start_time": "2024-08-17T18:34:29.773Z"
   },
   {
    "duration": 274,
    "start_time": "2024-08-17T18:34:30.131Z"
   },
   {
    "duration": 281,
    "start_time": "2024-08-17T18:34:30.407Z"
   },
   {
    "duration": 5279,
    "start_time": "2024-08-17T18:34:30.690Z"
   },
   {
    "duration": 8,
    "start_time": "2024-08-17T18:34:35.972Z"
   },
   {
    "duration": 7,
    "start_time": "2024-08-17T18:34:35.981Z"
   },
   {
    "duration": 7,
    "start_time": "2024-08-17T18:34:35.989Z"
   },
   {
    "duration": 9,
    "start_time": "2024-08-17T18:34:35.998Z"
   },
   {
    "duration": 210,
    "start_time": "2024-08-17T18:34:36.009Z"
   },
   {
    "duration": 130,
    "start_time": "2024-08-17T18:34:37.185Z"
   },
   {
    "duration": 324,
    "start_time": "2024-08-17T18:34:38.944Z"
   },
   {
    "duration": 314,
    "start_time": "2024-08-17T18:35:06.317Z"
   },
   {
    "duration": 315,
    "start_time": "2024-08-17T18:39:06.274Z"
   },
   {
    "duration": 189,
    "start_time": "2024-08-17T18:40:34.741Z"
   },
   {
    "duration": 300,
    "start_time": "2024-08-17T18:41:56.976Z"
   },
   {
    "duration": 11,
    "start_time": "2024-08-17T18:56:00.075Z"
   },
   {
    "duration": 1257,
    "start_time": "2024-08-17T18:57:42.704Z"
   },
   {
    "duration": 908,
    "start_time": "2024-08-17T18:58:12.640Z"
   },
   {
    "duration": 46,
    "start_time": "2024-08-18T07:16:22.545Z"
   },
   {
    "duration": 817,
    "start_time": "2024-08-18T07:16:31.157Z"
   },
   {
    "duration": 314,
    "start_time": "2024-08-18T07:16:31.976Z"
   },
   {
    "duration": 65,
    "start_time": "2024-08-18T07:16:33.123Z"
   },
   {
    "duration": 29,
    "start_time": "2024-08-18T07:16:33.489Z"
   },
   {
    "duration": 12,
    "start_time": "2024-08-18T07:16:33.843Z"
   },
   {
    "duration": 248,
    "start_time": "2024-08-18T07:16:34.180Z"
   },
   {
    "duration": 249,
    "start_time": "2024-08-18T07:16:34.430Z"
   },
   {
    "duration": 291,
    "start_time": "2024-08-18T07:16:34.681Z"
   },
   {
    "duration": 4666,
    "start_time": "2024-08-18T07:16:34.974Z"
   },
   {
    "duration": 6,
    "start_time": "2024-08-18T07:16:39.642Z"
   },
   {
    "duration": 19,
    "start_time": "2024-08-18T07:16:39.650Z"
   },
   {
    "duration": 19,
    "start_time": "2024-08-18T07:16:39.671Z"
   },
   {
    "duration": 13,
    "start_time": "2024-08-18T07:16:39.692Z"
   },
   {
    "duration": 173,
    "start_time": "2024-08-18T07:16:39.707Z"
   },
   {
    "duration": 134,
    "start_time": "2024-08-18T07:16:39.882Z"
   },
   {
    "duration": 272,
    "start_time": "2024-08-18T07:16:40.204Z"
   },
   {
    "duration": 9,
    "start_time": "2024-08-18T07:16:41.232Z"
   },
   {
    "duration": 1159,
    "start_time": "2024-08-18T07:16:41.517Z"
   },
   {
    "duration": 766,
    "start_time": "2024-08-18T07:16:42.678Z"
   },
   {
    "duration": 251,
    "start_time": "2024-08-18T07:17:22.768Z"
   },
   {
    "duration": 382,
    "start_time": "2024-08-18T07:17:34.421Z"
   },
   {
    "duration": 569,
    "start_time": "2024-08-18T07:17:41.902Z"
   },
   {
    "duration": 526,
    "start_time": "2024-08-18T07:19:29.652Z"
   },
   {
    "duration": 236,
    "start_time": "2024-08-18T07:21:36.227Z"
   },
   {
    "duration": 495,
    "start_time": "2024-08-18T07:22:05.792Z"
   },
   {
    "duration": 269,
    "start_time": "2024-08-18T07:22:18.545Z"
   },
   {
    "duration": 184,
    "start_time": "2024-08-18T07:22:24.801Z"
   },
   {
    "duration": 141,
    "start_time": "2024-08-18T07:22:32.066Z"
   },
   {
    "duration": 164,
    "start_time": "2024-08-18T07:22:40.352Z"
   },
   {
    "duration": 249,
    "start_time": "2024-08-18T07:23:02.868Z"
   },
   {
    "duration": 252,
    "start_time": "2024-08-18T07:23:14.323Z"
   },
   {
    "duration": 196,
    "start_time": "2024-08-18T07:23:27.253Z"
   },
   {
    "duration": 177,
    "start_time": "2024-08-18T07:23:38.072Z"
   },
   {
    "duration": 217,
    "start_time": "2024-08-18T07:23:43.848Z"
   },
   {
    "duration": 298,
    "start_time": "2024-08-18T07:23:48.841Z"
   },
   {
    "duration": 214,
    "start_time": "2024-08-18T07:24:28.309Z"
   },
   {
    "duration": 9,
    "start_time": "2024-08-18T07:28:30.207Z"
   },
   {
    "duration": 71,
    "start_time": "2024-08-18T07:31:57.915Z"
   },
   {
    "duration": 8,
    "start_time": "2024-08-18T07:32:23.938Z"
   },
   {
    "duration": 75,
    "start_time": "2024-08-18T07:32:24.645Z"
   },
   {
    "duration": 80,
    "start_time": "2024-08-18T07:33:03.917Z"
   },
   {
    "duration": 525,
    "start_time": "2024-08-18T07:33:21.903Z"
   },
   {
    "duration": 291,
    "start_time": "2024-08-18T07:33:31.260Z"
   },
   {
    "duration": 408,
    "start_time": "2024-08-18T07:33:36.734Z"
   },
   {
    "duration": 58,
    "start_time": "2024-08-18T08:00:12.126Z"
   },
   {
    "duration": 16,
    "start_time": "2024-08-18T08:00:32.130Z"
   },
   {
    "duration": 24,
    "start_time": "2024-08-18T08:01:31.285Z"
   },
   {
    "duration": 24,
    "start_time": "2024-08-18T08:02:12.185Z"
   },
   {
    "duration": 17,
    "start_time": "2024-08-18T08:02:29.675Z"
   },
   {
    "duration": 20,
    "start_time": "2024-08-18T08:02:33.406Z"
   },
   {
    "duration": 9,
    "start_time": "2024-08-18T08:02:55.868Z"
   },
   {
    "duration": 6,
    "start_time": "2024-08-18T08:03:51.064Z"
   },
   {
    "duration": 10,
    "start_time": "2024-08-18T08:04:06.665Z"
   },
   {
    "duration": 9,
    "start_time": "2024-08-18T08:04:20.655Z"
   },
   {
    "duration": 6,
    "start_time": "2024-08-18T08:04:27.451Z"
   },
   {
    "duration": 21,
    "start_time": "2024-08-18T08:07:06.563Z"
   },
   {
    "duration": 150,
    "start_time": "2024-08-18T08:07:53.282Z"
   },
   {
    "duration": 17,
    "start_time": "2024-08-18T08:08:10.034Z"
   },
   {
    "duration": 23,
    "start_time": "2024-08-18T08:08:18.946Z"
   },
   {
    "duration": 15,
    "start_time": "2024-08-18T08:08:35.170Z"
   },
   {
    "duration": 5,
    "start_time": "2024-08-18T08:13:13.804Z"
   },
   {
    "duration": 8,
    "start_time": "2024-08-18T08:13:33.911Z"
   },
   {
    "duration": 6,
    "start_time": "2024-08-18T08:13:42.212Z"
   },
   {
    "duration": 31,
    "start_time": "2024-08-18T08:14:05.716Z"
   },
   {
    "duration": 5,
    "start_time": "2024-08-18T08:14:41.461Z"
   },
   {
    "duration": 27,
    "start_time": "2024-08-18T08:15:42.879Z"
   },
   {
    "duration": 5,
    "start_time": "2024-08-18T08:15:56.916Z"
   },
   {
    "duration": 11,
    "start_time": "2024-08-18T08:15:57.142Z"
   },
   {
    "duration": 46,
    "start_time": "2024-08-18T13:53:52.498Z"
   },
   {
    "duration": 759,
    "start_time": "2024-08-18T13:54:03.194Z"
   },
   {
    "duration": 305,
    "start_time": "2024-08-18T13:54:06.638Z"
   },
   {
    "duration": 25,
    "start_time": "2024-08-18T13:54:08.045Z"
   },
   {
    "duration": 10,
    "start_time": "2024-08-18T13:54:08.400Z"
   },
   {
    "duration": 160,
    "start_time": "2024-08-18T13:54:08.754Z"
   },
   {
    "duration": 269,
    "start_time": "2024-08-18T13:54:08.944Z"
   },
   {
    "duration": 301,
    "start_time": "2024-08-18T13:54:09.215Z"
   },
   {
    "duration": 4677,
    "start_time": "2024-08-18T13:54:09.518Z"
   },
   {
    "duration": 6,
    "start_time": "2024-08-18T13:54:14.197Z"
   },
   {
    "duration": 9,
    "start_time": "2024-08-18T13:54:14.205Z"
   },
   {
    "duration": 7,
    "start_time": "2024-08-18T13:54:14.215Z"
   },
   {
    "duration": 24,
    "start_time": "2024-08-18T13:54:14.223Z"
   },
   {
    "duration": 166,
    "start_time": "2024-08-18T13:54:14.249Z"
   },
   {
    "duration": 135,
    "start_time": "2024-08-18T13:54:14.416Z"
   },
   {
    "duration": 283,
    "start_time": "2024-08-18T13:54:14.553Z"
   },
   {
    "duration": 9,
    "start_time": "2024-08-18T13:54:15.339Z"
   },
   {
    "duration": 532,
    "start_time": "2024-08-18T13:54:15.529Z"
   },
   {
    "duration": 11,
    "start_time": "2024-08-18T13:54:16.284Z"
   },
   {
    "duration": 375,
    "start_time": "2024-08-18T13:54:16.470Z"
   },
   {
    "duration": 15,
    "start_time": "2024-08-18T13:54:18.830Z"
   },
   {
    "duration": 17,
    "start_time": "2024-08-18T13:54:19.749Z"
   },
   {
    "duration": 8,
    "start_time": "2024-08-18T13:54:21.138Z"
   },
   {
    "duration": 5,
    "start_time": "2024-08-18T13:54:21.943Z"
   },
   {
    "duration": 1257,
    "start_time": "2024-08-18T13:54:22.501Z"
   },
   {
    "duration": 212,
    "start_time": "2024-08-18T13:54:48.121Z"
   },
   {
    "duration": 241,
    "start_time": "2024-08-18T13:54:59.207Z"
   },
   {
    "duration": 343,
    "start_time": "2024-08-18T13:56:02.328Z"
   },
   {
    "duration": 413,
    "start_time": "2024-08-18T13:57:42.233Z"
   },
   {
    "duration": 37,
    "start_time": "2024-08-18T13:58:01.145Z"
   },
   {
    "duration": 230,
    "start_time": "2024-08-18T13:58:36.763Z"
   },
   {
    "duration": 175,
    "start_time": "2024-08-18T13:58:53.662Z"
   },
   {
    "duration": 65,
    "start_time": "2024-08-18T13:59:24.538Z"
   },
   {
    "duration": 192,
    "start_time": "2024-08-18T13:59:31.866Z"
   },
   {
    "duration": 9,
    "start_time": "2024-08-18T14:00:19.169Z"
   },
   {
    "duration": 248,
    "start_time": "2024-08-18T14:00:43.474Z"
   },
   {
    "duration": 294,
    "start_time": "2024-08-18T14:00:47.988Z"
   },
   {
    "duration": 229,
    "start_time": "2024-08-18T14:01:00.268Z"
   },
   {
    "duration": 356,
    "start_time": "2024-08-18T14:01:09.482Z"
   },
   {
    "duration": 340,
    "start_time": "2024-08-18T14:01:47.711Z"
   },
   {
    "duration": 480,
    "start_time": "2024-08-18T14:02:57.393Z"
   },
   {
    "duration": 350,
    "start_time": "2024-08-18T14:03:21.187Z"
   },
   {
    "duration": 333,
    "start_time": "2024-08-18T14:03:44.175Z"
   },
   {
    "duration": 234,
    "start_time": "2024-08-18T14:03:59.493Z"
   },
   {
    "duration": 247,
    "start_time": "2024-08-18T14:04:21.127Z"
   },
   {
    "duration": 458,
    "start_time": "2024-08-18T14:04:41.851Z"
   },
   {
    "duration": 309,
    "start_time": "2024-08-18T14:06:00.759Z"
   },
   {
    "duration": 433,
    "start_time": "2024-08-18T14:13:10.117Z"
   },
   {
    "duration": 308,
    "start_time": "2024-08-18T14:13:17.098Z"
   },
   {
    "duration": 281,
    "start_time": "2024-08-18T14:13:39.710Z"
   },
   {
    "duration": 9,
    "start_time": "2024-08-18T14:14:01.620Z"
   },
   {
    "duration": 212,
    "start_time": "2024-08-18T14:14:17.237Z"
   },
   {
    "duration": 651,
    "start_time": "2024-08-18T14:15:52.622Z"
   },
   {
    "duration": 8,
    "start_time": "2024-08-18T14:16:36.054Z"
   },
   {
    "duration": 9,
    "start_time": "2024-08-18T14:16:37.402Z"
   },
   {
    "duration": 1657,
    "start_time": "2024-08-18T14:17:43.835Z"
   },
   {
    "duration": 0,
    "start_time": "2024-08-18T14:17:45.494Z"
   },
   {
    "duration": 0,
    "start_time": "2024-08-18T14:17:45.495Z"
   },
   {
    "duration": 285,
    "start_time": "2024-08-18T14:17:59.467Z"
   },
   {
    "duration": 9,
    "start_time": "2024-08-18T14:18:04.647Z"
   },
   {
    "duration": 8,
    "start_time": "2024-08-18T14:18:05.500Z"
   },
   {
    "duration": 415,
    "start_time": "2024-08-18T14:18:33.833Z"
   },
   {
    "duration": 91,
    "start_time": "2024-08-18T14:25:32.831Z"
   },
   {
    "duration": 47,
    "start_time": "2024-08-18T14:37:19.667Z"
   },
   {
    "duration": 54,
    "start_time": "2024-08-18T14:38:54.597Z"
   },
   {
    "duration": 52,
    "start_time": "2024-08-18T14:39:05.879Z"
   },
   {
    "duration": 45,
    "start_time": "2024-08-18T14:40:55.371Z"
   },
   {
    "duration": 61,
    "start_time": "2024-08-18T14:51:33.265Z"
   },
   {
    "duration": 46,
    "start_time": "2024-08-18T14:51:44.124Z"
   },
   {
    "duration": 44,
    "start_time": "2024-08-18T14:55:12.298Z"
   },
   {
    "duration": 9,
    "start_time": "2024-08-18T15:00:42.956Z"
   },
   {
    "duration": 7,
    "start_time": "2024-08-18T15:00:49.895Z"
   },
   {
    "duration": 8,
    "start_time": "2024-08-18T15:01:53.611Z"
   },
   {
    "duration": 4,
    "start_time": "2024-08-18T15:02:20.202Z"
   },
   {
    "duration": 12,
    "start_time": "2024-08-18T15:02:23.982Z"
   },
   {
    "duration": 5,
    "start_time": "2024-08-18T15:02:24.163Z"
   },
   {
    "duration": 169,
    "start_time": "2024-08-18T15:02:25.199Z"
   },
   {
    "duration": 128,
    "start_time": "2024-08-18T15:02:25.928Z"
   },
   {
    "duration": 266,
    "start_time": "2024-08-18T15:02:26.681Z"
   },
   {
    "duration": 9,
    "start_time": "2024-08-18T15:02:27.457Z"
   },
   {
    "duration": 683,
    "start_time": "2024-08-18T15:02:27.649Z"
   },
   {
    "duration": 9,
    "start_time": "2024-08-18T15:02:28.431Z"
   },
   {
    "duration": 341,
    "start_time": "2024-08-18T15:02:28.637Z"
   },
   {
    "duration": 15,
    "start_time": "2024-08-18T15:02:30.559Z"
   },
   {
    "duration": 17,
    "start_time": "2024-08-18T15:02:30.770Z"
   },
   {
    "duration": 8,
    "start_time": "2024-08-18T15:02:31.187Z"
   },
   {
    "duration": 5,
    "start_time": "2024-08-18T15:02:31.386Z"
   },
   {
    "duration": 418,
    "start_time": "2024-08-18T15:02:31.803Z"
   },
   {
    "duration": 9,
    "start_time": "2024-08-18T15:02:32.223Z"
   },
   {
    "duration": 19,
    "start_time": "2024-08-18T15:02:32.233Z"
   },
   {
    "duration": 289,
    "start_time": "2024-08-18T15:02:32.403Z"
   },
   {
    "duration": 8,
    "start_time": "2024-08-18T15:02:32.694Z"
   },
   {
    "duration": 8,
    "start_time": "2024-08-18T15:02:32.821Z"
   },
   {
    "duration": 45,
    "start_time": "2024-08-18T15:02:33.829Z"
   },
   {
    "duration": 8,
    "start_time": "2024-08-18T15:02:34.238Z"
   },
   {
    "duration": 46,
    "start_time": "2024-08-18T15:10:27.681Z"
   },
   {
    "duration": 42,
    "start_time": "2024-08-18T15:11:28.524Z"
   },
   {
    "duration": 6,
    "start_time": "2024-08-18T15:12:32.943Z"
   },
   {
    "duration": 9,
    "start_time": "2024-08-18T15:12:45.463Z"
   },
   {
    "duration": 57,
    "start_time": "2024-08-18T15:13:09.881Z"
   },
   {
    "duration": 73,
    "start_time": "2024-08-18T15:14:27.589Z"
   },
   {
    "duration": 68,
    "start_time": "2024-08-18T15:14:35.514Z"
   },
   {
    "duration": 9,
    "start_time": "2024-08-18T15:14:54.770Z"
   },
   {
    "duration": 10,
    "start_time": "2024-08-18T15:15:03.535Z"
   },
   {
    "duration": 5,
    "start_time": "2024-08-18T15:15:10.118Z"
   },
   {
    "duration": 9,
    "start_time": "2024-08-18T15:16:07.577Z"
   },
   {
    "duration": 6,
    "start_time": "2024-08-18T15:17:13.448Z"
   },
   {
    "duration": 764,
    "start_time": "2024-08-18T19:16:57.382Z"
   },
   {
    "duration": 391,
    "start_time": "2024-08-18T19:17:00.429Z"
   },
   {
    "duration": 23,
    "start_time": "2024-08-18T19:17:00.822Z"
   },
   {
    "duration": 11,
    "start_time": "2024-08-18T19:17:01.195Z"
   },
   {
    "duration": 175,
    "start_time": "2024-08-18T19:17:01.582Z"
   },
   {
    "duration": 271,
    "start_time": "2024-08-18T19:17:01.761Z"
   },
   {
    "duration": 286,
    "start_time": "2024-08-18T19:17:02.033Z"
   },
   {
    "duration": 4416,
    "start_time": "2024-08-18T19:17:02.320Z"
   },
   {
    "duration": 7,
    "start_time": "2024-08-18T19:17:06.737Z"
   },
   {
    "duration": 7,
    "start_time": "2024-08-18T19:17:06.745Z"
   },
   {
    "duration": 19,
    "start_time": "2024-08-18T19:17:06.754Z"
   },
   {
    "duration": 22,
    "start_time": "2024-08-18T19:17:06.774Z"
   },
   {
    "duration": 191,
    "start_time": "2024-08-18T19:17:06.798Z"
   },
   {
    "duration": 122,
    "start_time": "2024-08-18T19:17:06.991Z"
   },
   {
    "duration": 248,
    "start_time": "2024-08-18T19:17:07.787Z"
   },
   {
    "duration": 8,
    "start_time": "2024-08-18T19:17:08.551Z"
   },
   {
    "duration": 497,
    "start_time": "2024-08-18T19:17:08.757Z"
   },
   {
    "duration": 7,
    "start_time": "2024-08-18T19:17:09.560Z"
   },
   {
    "duration": 343,
    "start_time": "2024-08-18T19:17:09.753Z"
   },
   {
    "duration": 14,
    "start_time": "2024-08-18T19:17:11.772Z"
   },
   {
    "duration": 17,
    "start_time": "2024-08-18T19:17:11.981Z"
   },
   {
    "duration": 7,
    "start_time": "2024-08-18T19:17:12.348Z"
   },
   {
    "duration": 5,
    "start_time": "2024-08-18T19:17:12.559Z"
   },
   {
    "duration": 440,
    "start_time": "2024-08-18T19:17:12.971Z"
   },
   {
    "duration": 8,
    "start_time": "2024-08-18T19:17:13.413Z"
   },
   {
    "duration": 26,
    "start_time": "2024-08-18T19:17:13.422Z"
   },
   {
    "duration": 363,
    "start_time": "2024-08-18T19:17:13.622Z"
   },
   {
    "duration": 7,
    "start_time": "2024-08-18T19:17:13.987Z"
   },
   {
    "duration": 7,
    "start_time": "2024-08-18T19:17:14.072Z"
   },
   {
    "duration": 43,
    "start_time": "2024-08-18T19:17:15.063Z"
   },
   {
    "duration": 6,
    "start_time": "2024-08-18T19:17:16.383Z"
   },
   {
    "duration": 388,
    "start_time": "2024-08-18T19:19:57.294Z"
   },
   {
    "duration": 80,
    "start_time": "2024-08-18T19:19:59.327Z"
   },
   {
    "duration": 80,
    "start_time": "2024-08-18T19:20:01.269Z"
   },
   {
    "duration": 22,
    "start_time": "2024-08-18T19:20:01.599Z"
   },
   {
    "duration": 9,
    "start_time": "2024-08-18T19:20:01.935Z"
   },
   {
    "duration": 147,
    "start_time": "2024-08-18T19:20:02.270Z"
   },
   {
    "duration": 244,
    "start_time": "2024-08-18T19:20:02.452Z"
   },
   {
    "duration": 308,
    "start_time": "2024-08-18T19:20:02.698Z"
   },
   {
    "duration": 4428,
    "start_time": "2024-08-18T19:20:03.008Z"
   },
   {
    "duration": 6,
    "start_time": "2024-08-18T19:20:07.438Z"
   },
   {
    "duration": 30,
    "start_time": "2024-08-18T19:20:07.446Z"
   },
   {
    "duration": 9,
    "start_time": "2024-08-18T19:20:07.478Z"
   },
   {
    "duration": 13,
    "start_time": "2024-08-18T19:20:07.488Z"
   },
   {
    "duration": 153,
    "start_time": "2024-08-18T19:20:07.502Z"
   },
   {
    "duration": 118,
    "start_time": "2024-08-18T19:20:07.657Z"
   },
   {
    "duration": 254,
    "start_time": "2024-08-18T19:20:08.105Z"
   },
   {
    "duration": 8,
    "start_time": "2024-08-18T19:20:08.959Z"
   },
   {
    "duration": 525,
    "start_time": "2024-08-18T19:20:09.160Z"
   },
   {
    "duration": 8,
    "start_time": "2024-08-18T19:20:09.872Z"
   },
   {
    "duration": 361,
    "start_time": "2024-08-18T19:20:10.061Z"
   },
   {
    "duration": 14,
    "start_time": "2024-08-18T19:20:11.945Z"
   },
   {
    "duration": 16,
    "start_time": "2024-08-18T19:20:12.146Z"
   },
   {
    "duration": 8,
    "start_time": "2024-08-18T19:20:12.538Z"
   },
   {
    "duration": 5,
    "start_time": "2024-08-18T19:20:12.731Z"
   },
   {
    "duration": 432,
    "start_time": "2024-08-18T19:20:13.115Z"
   },
   {
    "duration": 8,
    "start_time": "2024-08-18T19:20:13.550Z"
   },
   {
    "duration": 23,
    "start_time": "2024-08-18T19:20:13.560Z"
   },
   {
    "duration": 362,
    "start_time": "2024-08-18T19:20:13.698Z"
   },
   {
    "duration": 7,
    "start_time": "2024-08-18T19:20:14.062Z"
   },
   {
    "duration": 7,
    "start_time": "2024-08-18T19:20:14.082Z"
   },
   {
    "duration": 42,
    "start_time": "2024-08-18T19:20:15.023Z"
   },
   {
    "duration": 6,
    "start_time": "2024-08-18T19:20:16.167Z"
   },
   {
    "duration": 90,
    "start_time": "2024-08-18T19:29:49.522Z"
   },
   {
    "duration": 10,
    "start_time": "2024-08-18T19:29:57.546Z"
   },
   {
    "duration": 5,
    "start_time": "2024-08-18T19:30:05.483Z"
   },
   {
    "duration": 53,
    "start_time": "2024-08-18T19:36:00.647Z"
   },
   {
    "duration": 5,
    "start_time": "2024-08-18T19:36:09.656Z"
   },
   {
    "duration": 5,
    "start_time": "2024-08-18T19:48:15.562Z"
   },
   {
    "duration": 21,
    "start_time": "2024-08-18T20:08:31.576Z"
   },
   {
    "duration": 5,
    "start_time": "2024-08-18T20:09:15.672Z"
   },
   {
    "duration": 46,
    "start_time": "2024-08-18T20:15:32.392Z"
   },
   {
    "duration": 7,
    "start_time": "2024-08-18T20:15:55.624Z"
   },
   {
    "duration": 1262,
    "start_time": "2024-08-18T20:26:11.657Z"
   },
   {
    "duration": 85,
    "start_time": "2024-08-18T20:26:12.921Z"
   },
   {
    "duration": 25,
    "start_time": "2024-08-18T20:26:13.008Z"
   },
   {
    "duration": 8,
    "start_time": "2024-08-18T20:26:13.034Z"
   },
   {
    "duration": 195,
    "start_time": "2024-08-18T20:26:13.044Z"
   },
   {
    "duration": 262,
    "start_time": "2024-08-18T20:26:13.241Z"
   },
   {
    "duration": 259,
    "start_time": "2024-08-18T20:26:13.504Z"
   },
   {
    "duration": 4603,
    "start_time": "2024-08-18T20:26:13.764Z"
   },
   {
    "duration": 13,
    "start_time": "2024-08-18T20:26:18.369Z"
   },
   {
    "duration": 5,
    "start_time": "2024-08-18T20:26:18.383Z"
   },
   {
    "duration": 15,
    "start_time": "2024-08-18T20:26:18.389Z"
   },
   {
    "duration": 18,
    "start_time": "2024-08-18T20:26:18.405Z"
   },
   {
    "duration": 162,
    "start_time": "2024-08-18T20:26:18.424Z"
   },
   {
    "duration": 127,
    "start_time": "2024-08-18T20:26:18.589Z"
   },
   {
    "duration": 265,
    "start_time": "2024-08-18T20:26:18.718Z"
   },
   {
    "duration": 9,
    "start_time": "2024-08-18T20:26:18.985Z"
   },
   {
    "duration": 461,
    "start_time": "2024-08-18T20:26:18.995Z"
   },
   {
    "duration": 9,
    "start_time": "2024-08-18T20:26:19.458Z"
   },
   {
    "duration": 437,
    "start_time": "2024-08-18T20:26:19.469Z"
   },
   {
    "duration": 14,
    "start_time": "2024-08-18T20:26:19.908Z"
   },
   {
    "duration": 20,
    "start_time": "2024-08-18T20:26:19.923Z"
   },
   {
    "duration": 9,
    "start_time": "2024-08-18T20:26:19.946Z"
   },
   {
    "duration": 5,
    "start_time": "2024-08-18T20:26:19.981Z"
   },
   {
    "duration": 467,
    "start_time": "2024-08-18T20:26:19.988Z"
   },
   {
    "duration": 8,
    "start_time": "2024-08-18T20:26:20.456Z"
   },
   {
    "duration": 18,
    "start_time": "2024-08-18T20:26:20.465Z"
   },
   {
    "duration": 298,
    "start_time": "2024-08-18T20:26:20.484Z"
   },
   {
    "duration": 8,
    "start_time": "2024-08-18T20:26:20.783Z"
   },
   {
    "duration": 9,
    "start_time": "2024-08-18T20:26:20.792Z"
   },
   {
    "duration": 41,
    "start_time": "2024-08-18T20:26:20.802Z"
   },
   {
    "duration": 6,
    "start_time": "2024-08-18T20:26:20.845Z"
   },
   {
    "duration": 30,
    "start_time": "2024-08-18T20:26:20.852Z"
   },
   {
    "duration": 13,
    "start_time": "2024-08-18T20:26:20.883Z"
   },
   {
    "duration": 34,
    "start_time": "2024-08-18T20:26:20.897Z"
   },
   {
    "duration": 42,
    "start_time": "2024-08-18T20:55:19.061Z"
   },
   {
    "duration": 1058,
    "start_time": "2024-08-18T20:57:10.974Z"
   },
   {
    "duration": 82,
    "start_time": "2024-08-18T20:57:12.034Z"
   },
   {
    "duration": 23,
    "start_time": "2024-08-18T20:57:12.118Z"
   },
   {
    "duration": 10,
    "start_time": "2024-08-18T20:57:12.143Z"
   },
   {
    "duration": 171,
    "start_time": "2024-08-18T20:57:12.155Z"
   },
   {
    "duration": 254,
    "start_time": "2024-08-18T20:57:12.328Z"
   },
   {
    "duration": 245,
    "start_time": "2024-08-18T20:57:12.584Z"
   },
   {
    "duration": 4701,
    "start_time": "2024-08-18T20:57:12.831Z"
   },
   {
    "duration": 8,
    "start_time": "2024-08-18T20:57:17.533Z"
   },
   {
    "duration": 16,
    "start_time": "2024-08-18T20:57:17.543Z"
   },
   {
    "duration": 22,
    "start_time": "2024-08-18T20:57:17.560Z"
   },
   {
    "duration": 5,
    "start_time": "2024-08-18T20:57:17.583Z"
   },
   {
    "duration": 193,
    "start_time": "2024-08-18T20:57:17.589Z"
   },
   {
    "duration": 129,
    "start_time": "2024-08-18T20:57:17.783Z"
   },
   {
    "duration": 284,
    "start_time": "2024-08-18T20:57:17.914Z"
   },
   {
    "duration": 12,
    "start_time": "2024-08-18T20:57:18.199Z"
   },
   {
    "duration": 481,
    "start_time": "2024-08-18T20:57:18.213Z"
   },
   {
    "duration": 8,
    "start_time": "2024-08-18T20:57:18.696Z"
   },
   {
    "duration": 446,
    "start_time": "2024-08-18T20:57:18.705Z"
   },
   {
    "duration": 14,
    "start_time": "2024-08-18T20:57:19.152Z"
   },
   {
    "duration": 16,
    "start_time": "2024-08-18T20:57:19.181Z"
   },
   {
    "duration": 7,
    "start_time": "2024-08-18T20:57:19.198Z"
   },
   {
    "duration": 10,
    "start_time": "2024-08-18T20:57:19.206Z"
   },
   {
    "duration": 434,
    "start_time": "2024-08-18T20:57:19.218Z"
   },
   {
    "duration": 8,
    "start_time": "2024-08-18T20:57:19.654Z"
   },
   {
    "duration": 46,
    "start_time": "2024-08-18T20:57:19.664Z"
   },
   {
    "duration": 289,
    "start_time": "2024-08-18T20:57:19.712Z"
   },
   {
    "duration": 9,
    "start_time": "2024-08-18T20:57:20.004Z"
   },
   {
    "duration": 15,
    "start_time": "2024-08-18T20:57:20.014Z"
   },
   {
    "duration": 59,
    "start_time": "2024-08-18T20:57:20.031Z"
   },
   {
    "duration": 9,
    "start_time": "2024-08-18T20:57:20.091Z"
   },
   {
    "duration": 12,
    "start_time": "2024-08-18T20:57:20.102Z"
   },
   {
    "duration": 5,
    "start_time": "2024-08-18T20:57:20.116Z"
   },
   {
    "duration": 21,
    "start_time": "2024-08-18T20:57:20.123Z"
   },
   {
    "duration": 1198,
    "start_time": "2024-08-19T05:11:10.356Z"
   },
   {
    "duration": 308,
    "start_time": "2024-08-19T05:11:11.556Z"
   },
   {
    "duration": 26,
    "start_time": "2024-08-19T05:11:11.866Z"
   },
   {
    "duration": 11,
    "start_time": "2024-08-19T05:11:11.894Z"
   },
   {
    "duration": 206,
    "start_time": "2024-08-19T05:11:11.906Z"
   },
   {
    "duration": 307,
    "start_time": "2024-08-19T05:11:12.114Z"
   },
   {
    "duration": 284,
    "start_time": "2024-08-19T05:11:12.423Z"
   },
   {
    "duration": 5200,
    "start_time": "2024-08-19T05:11:12.709Z"
   },
   {
    "duration": 7,
    "start_time": "2024-08-19T05:11:17.911Z"
   },
   {
    "duration": 5,
    "start_time": "2024-08-19T05:11:17.921Z"
   },
   {
    "duration": 27,
    "start_time": "2024-08-19T05:11:17.927Z"
   },
   {
    "duration": 5,
    "start_time": "2024-08-19T05:11:17.956Z"
   },
   {
    "duration": 208,
    "start_time": "2024-08-19T05:11:17.963Z"
   },
   {
    "duration": 131,
    "start_time": "2024-08-19T05:11:20.882Z"
   },
   {
    "duration": 324,
    "start_time": "2024-08-19T05:11:21.015Z"
   },
   {
    "duration": 1162,
    "start_time": "2024-08-19T05:14:12.072Z"
   },
   {
    "duration": 86,
    "start_time": "2024-08-19T05:14:13.236Z"
   },
   {
    "duration": 25,
    "start_time": "2024-08-19T05:14:13.324Z"
   },
   {
    "duration": 11,
    "start_time": "2024-08-19T05:14:13.351Z"
   },
   {
    "duration": 197,
    "start_time": "2024-08-19T05:14:13.363Z"
   },
   {
    "duration": 275,
    "start_time": "2024-08-19T05:14:13.562Z"
   },
   {
    "duration": 265,
    "start_time": "2024-08-19T05:14:13.838Z"
   },
   {
    "duration": 5771,
    "start_time": "2024-08-19T05:14:14.105Z"
   },
   {
    "duration": 7,
    "start_time": "2024-08-19T05:14:19.878Z"
   },
   {
    "duration": 17,
    "start_time": "2024-08-19T05:14:19.887Z"
   },
   {
    "duration": 30,
    "start_time": "2024-08-19T05:14:19.905Z"
   },
   {
    "duration": 19,
    "start_time": "2024-08-19T05:14:19.936Z"
   },
   {
    "duration": 186,
    "start_time": "2024-08-19T05:14:19.956Z"
   },
   {
    "duration": 130,
    "start_time": "2024-08-19T05:14:20.143Z"
   },
   {
    "duration": 302,
    "start_time": "2024-08-19T05:14:20.275Z"
   },
   {
    "duration": 10,
    "start_time": "2024-08-19T05:14:20.579Z"
   },
   {
    "duration": 523,
    "start_time": "2024-08-19T05:14:20.590Z"
   },
   {
    "duration": 9,
    "start_time": "2024-08-19T05:14:21.114Z"
   },
   {
    "duration": 449,
    "start_time": "2024-08-19T05:14:21.124Z"
   },
   {
    "duration": 13,
    "start_time": "2024-08-19T05:14:21.575Z"
   },
   {
    "duration": 26,
    "start_time": "2024-08-19T05:14:21.590Z"
   },
   {
    "duration": 23,
    "start_time": "2024-08-19T05:14:21.617Z"
   },
   {
    "duration": 24,
    "start_time": "2024-08-19T05:14:21.641Z"
   },
   {
    "duration": 455,
    "start_time": "2024-08-19T05:14:21.667Z"
   },
   {
    "duration": 8,
    "start_time": "2024-08-19T05:14:22.123Z"
   },
   {
    "duration": 21,
    "start_time": "2024-08-19T05:14:22.133Z"
   },
   {
    "duration": 324,
    "start_time": "2024-08-19T05:14:22.156Z"
   },
   {
    "duration": 8,
    "start_time": "2024-08-19T05:14:22.484Z"
   },
   {
    "duration": 12,
    "start_time": "2024-08-19T05:14:22.494Z"
   },
   {
    "duration": 62,
    "start_time": "2024-08-19T05:14:22.507Z"
   },
   {
    "duration": 6,
    "start_time": "2024-08-19T05:14:22.571Z"
   },
   {
    "duration": 5,
    "start_time": "2024-08-19T05:14:22.579Z"
   },
   {
    "duration": 4,
    "start_time": "2024-08-19T05:14:22.586Z"
   },
   {
    "duration": 8,
    "start_time": "2024-08-19T05:14:22.592Z"
   },
   {
    "duration": 9,
    "start_time": "2024-08-19T05:16:25.077Z"
   },
   {
    "duration": 77,
    "start_time": "2024-08-19T17:48:20.358Z"
   },
   {
    "duration": 75,
    "start_time": "2024-08-19T17:58:30.594Z"
   },
   {
    "duration": 44,
    "start_time": "2024-08-19T18:06:37.033Z"
   },
   {
    "duration": 1353,
    "start_time": "2024-08-19T18:06:44.802Z"
   },
   {
    "duration": 286,
    "start_time": "2024-08-19T18:06:46.429Z"
   },
   {
    "duration": 16,
    "start_time": "2024-08-19T18:06:47.158Z"
   },
   {
    "duration": 65,
    "start_time": "2024-08-19T18:07:45.720Z"
   },
   {
    "duration": 28,
    "start_time": "2024-08-19T18:09:05.795Z"
   },
   {
    "duration": 68,
    "start_time": "2024-08-19T18:09:16.968Z"
   },
   {
    "duration": 26,
    "start_time": "2024-08-19T18:09:22.817Z"
   },
   {
    "duration": 68,
    "start_time": "2024-08-19T18:09:41.956Z"
   },
   {
    "duration": 24,
    "start_time": "2024-08-19T18:09:42.845Z"
   },
   {
    "duration": 214,
    "start_time": "2024-08-19T18:15:39.698Z"
   },
   {
    "duration": 126,
    "start_time": "2024-08-19T18:15:49.240Z"
   },
   {
    "duration": 130,
    "start_time": "2024-08-19T18:19:16.491Z"
   },
   {
    "duration": 234,
    "start_time": "2024-08-19T18:19:25.862Z"
   },
   {
    "duration": 131,
    "start_time": "2024-08-19T18:19:32.612Z"
   },
   {
    "duration": 143,
    "start_time": "2024-08-19T18:19:45.280Z"
   },
   {
    "duration": 137,
    "start_time": "2024-08-19T18:20:00.116Z"
   },
   {
    "duration": 81,
    "start_time": "2024-08-19T18:21:33.014Z"
   },
   {
    "duration": 297,
    "start_time": "2024-08-19T18:24:34.940Z"
   },
   {
    "duration": 414,
    "start_time": "2024-08-19T18:24:40.317Z"
   },
   {
    "duration": 277,
    "start_time": "2024-08-19T18:25:26.579Z"
   },
   {
    "duration": 11,
    "start_time": "2024-08-19T18:26:13.632Z"
   },
   {
    "duration": 4,
    "start_time": "2024-08-19T18:26:28.520Z"
   },
   {
    "duration": 5,
    "start_time": "2024-08-19T18:27:04.796Z"
   },
   {
    "duration": 4,
    "start_time": "2024-08-19T18:27:34.453Z"
   },
   {
    "duration": 4,
    "start_time": "2024-08-19T18:27:35.112Z"
   },
   {
    "duration": 4,
    "start_time": "2024-08-19T18:27:35.663Z"
   },
   {
    "duration": 8,
    "start_time": "2024-08-19T18:28:03.697Z"
   },
   {
    "duration": 4,
    "start_time": "2024-08-19T18:28:12.611Z"
   },
   {
    "duration": 19,
    "start_time": "2024-08-19T18:28:12.790Z"
   },
   {
    "duration": 15,
    "start_time": "2024-08-19T18:28:13.007Z"
   },
   {
    "duration": 5,
    "start_time": "2024-08-19T18:28:14.230Z"
   },
   {
    "duration": 7,
    "start_time": "2024-08-19T18:34:49.070Z"
   },
   {
    "duration": 3,
    "start_time": "2024-08-19T18:35:00.700Z"
   },
   {
    "duration": 10,
    "start_time": "2024-08-19T18:35:12.953Z"
   },
   {
    "duration": 4,
    "start_time": "2024-08-19T18:35:25.112Z"
   },
   {
    "duration": 1065,
    "start_time": "2024-08-19T18:35:45.978Z"
   },
   {
    "duration": 5,
    "start_time": "2024-08-19T18:35:56.526Z"
   },
   {
    "duration": 4,
    "start_time": "2024-08-19T18:36:22.456Z"
   },
   {
    "duration": 19,
    "start_time": "2024-08-19T18:38:16.782Z"
   },
   {
    "duration": 34,
    "start_time": "2024-08-19T18:39:24.120Z"
   },
   {
    "duration": 14,
    "start_time": "2024-08-19T18:39:51.233Z"
   },
   {
    "duration": 25,
    "start_time": "2024-08-19T18:41:01.995Z"
   },
   {
    "duration": 15,
    "start_time": "2024-08-19T18:41:15.434Z"
   },
   {
    "duration": 13,
    "start_time": "2024-08-19T18:43:24.990Z"
   },
   {
    "duration": 20,
    "start_time": "2024-08-19T18:45:03.198Z"
   },
   {
    "duration": 9,
    "start_time": "2024-08-19T18:45:29.364Z"
   },
   {
    "duration": 284,
    "start_time": "2024-08-19T18:48:00.840Z"
   },
   {
    "duration": 24,
    "start_time": "2024-08-19T18:50:37.994Z"
   },
   {
    "duration": 15,
    "start_time": "2024-08-19T18:50:51.896Z"
   },
   {
    "duration": 6,
    "start_time": "2024-08-19T18:50:53.081Z"
   },
   {
    "duration": 5,
    "start_time": "2024-08-19T18:50:53.858Z"
   },
   {
    "duration": 39,
    "start_time": "2024-08-19T18:50:55.350Z"
   },
   {
    "duration": 48,
    "start_time": "2024-08-19T18:51:04.474Z"
   },
   {
    "duration": 4,
    "start_time": "2024-08-19T18:51:50.129Z"
   },
   {
    "duration": 1107,
    "start_time": "2024-08-19T18:52:30.514Z"
   },
   {
    "duration": 5,
    "start_time": "2024-08-19T18:53:03.070Z"
   },
   {
    "duration": 4,
    "start_time": "2024-08-19T18:53:25.627Z"
   },
   {
    "duration": 66,
    "start_time": "2024-08-19T18:54:19.465Z"
   },
   {
    "duration": 4,
    "start_time": "2024-08-19T19:00:09.841Z"
   },
   {
    "duration": 16,
    "start_time": "2024-08-19T19:00:09.999Z"
   },
   {
    "duration": 15,
    "start_time": "2024-08-19T19:00:10.231Z"
   },
   {
    "duration": 16,
    "start_time": "2024-08-19T19:00:10.470Z"
   },
   {
    "duration": 15,
    "start_time": "2024-08-19T19:00:10.727Z"
   },
   {
    "duration": 15,
    "start_time": "2024-08-19T19:00:10.988Z"
   },
   {
    "duration": 6,
    "start_time": "2024-08-19T19:00:12.403Z"
   },
   {
    "duration": 6,
    "start_time": "2024-08-19T19:00:13.152Z"
   },
   {
    "duration": 46,
    "start_time": "2024-08-19T19:00:13.687Z"
   },
   {
    "duration": 4,
    "start_time": "2024-08-19T19:00:14.226Z"
   },
   {
    "duration": 4,
    "start_time": "2024-08-19T19:00:14.853Z"
   },
   {
    "duration": 473,
    "start_time": "2024-08-19T19:00:18.277Z"
   },
   {
    "duration": 337,
    "start_time": "2024-08-19T19:11:25.735Z"
   },
   {
    "duration": 577,
    "start_time": "2024-08-19T19:13:49.757Z"
   },
   {
    "duration": 8,
    "start_time": "2024-08-19T19:19:37.918Z"
   },
   {
    "duration": 17,
    "start_time": "2024-08-19T19:19:42.817Z"
   },
   {
    "duration": 9,
    "start_time": "2024-08-19T19:19:43.469Z"
   },
   {
    "duration": 499,
    "start_time": "2024-08-19T19:19:54.491Z"
   },
   {
    "duration": 15,
    "start_time": "2024-08-19T19:19:54.993Z"
   },
   {
    "duration": 14,
    "start_time": "2024-08-19T19:19:55.010Z"
   },
   {
    "duration": 20,
    "start_time": "2024-08-19T19:19:56.868Z"
   },
   {
    "duration": 9,
    "start_time": "2024-08-19T19:19:57.124Z"
   },
   {
    "duration": 1119,
    "start_time": "2024-08-19T19:20:04.268Z"
   },
   {
    "duration": 70,
    "start_time": "2024-08-19T19:20:05.389Z"
   },
   {
    "duration": 34,
    "start_time": "2024-08-19T19:20:05.460Z"
   },
   {
    "duration": 29,
    "start_time": "2024-08-19T19:20:05.497Z"
   },
   {
    "duration": 10,
    "start_time": "2024-08-19T19:20:05.528Z"
   },
   {
    "duration": 219,
    "start_time": "2024-08-19T19:20:05.539Z"
   },
   {
    "duration": 320,
    "start_time": "2024-08-19T19:20:05.760Z"
   },
   {
    "duration": 279,
    "start_time": "2024-08-19T19:20:06.083Z"
   },
   {
    "duration": 5245,
    "start_time": "2024-08-19T19:20:06.364Z"
   },
   {
    "duration": 8,
    "start_time": "2024-08-19T19:20:11.611Z"
   },
   {
    "duration": 5,
    "start_time": "2024-08-19T19:20:11.621Z"
   },
   {
    "duration": 16,
    "start_time": "2024-08-19T19:20:11.628Z"
   },
   {
    "duration": 6,
    "start_time": "2024-08-19T19:20:11.645Z"
   },
   {
    "duration": 226,
    "start_time": "2024-08-19T19:20:11.652Z"
   },
   {
    "duration": 159,
    "start_time": "2024-08-19T19:20:11.879Z"
   },
   {
    "duration": 328,
    "start_time": "2024-08-19T19:20:12.039Z"
   },
   {
    "duration": 8,
    "start_time": "2024-08-19T19:20:12.369Z"
   },
   {
    "duration": 529,
    "start_time": "2024-08-19T19:20:12.379Z"
   },
   {
    "duration": 10,
    "start_time": "2024-08-19T19:20:12.909Z"
   },
   {
    "duration": 509,
    "start_time": "2024-08-19T19:20:12.921Z"
   },
   {
    "duration": 4,
    "start_time": "2024-08-19T19:20:13.432Z"
   },
   {
    "duration": 11,
    "start_time": "2024-08-19T19:20:13.438Z"
   },
   {
    "duration": 7,
    "start_time": "2024-08-19T19:20:13.451Z"
   },
   {
    "duration": 20,
    "start_time": "2024-08-19T19:20:13.459Z"
   },
   {
    "duration": 35,
    "start_time": "2024-08-19T19:20:13.480Z"
   },
   {
    "duration": 23,
    "start_time": "2024-08-19T19:20:13.517Z"
   },
   {
    "duration": 16,
    "start_time": "2024-08-19T19:20:13.541Z"
   },
   {
    "duration": 14,
    "start_time": "2024-08-19T19:20:13.561Z"
   },
   {
    "duration": 6,
    "start_time": "2024-08-19T19:20:13.605Z"
   },
   {
    "duration": 19,
    "start_time": "2024-08-19T19:20:13.613Z"
   },
   {
    "duration": 61,
    "start_time": "2024-08-19T19:20:13.634Z"
   },
   {
    "duration": 5,
    "start_time": "2024-08-19T19:20:13.704Z"
   },
   {
    "duration": 15,
    "start_time": "2024-08-19T19:20:13.711Z"
   },
   {
    "duration": 506,
    "start_time": "2024-08-19T19:20:13.728Z"
   },
   {
    "duration": 10,
    "start_time": "2024-08-19T19:20:14.236Z"
   },
   {
    "duration": 82,
    "start_time": "2024-08-19T19:20:14.248Z"
   },
   {
    "duration": 476,
    "start_time": "2024-08-19T19:20:14.332Z"
   },
   {
    "duration": 9,
    "start_time": "2024-08-19T19:20:14.810Z"
   },
   {
    "duration": 34,
    "start_time": "2024-08-19T19:20:14.820Z"
   },
   {
    "duration": 77,
    "start_time": "2024-08-19T19:20:14.855Z"
   },
   {
    "duration": 6,
    "start_time": "2024-08-19T19:20:14.933Z"
   },
   {
    "duration": 16,
    "start_time": "2024-08-19T19:20:14.940Z"
   },
   {
    "duration": 5,
    "start_time": "2024-08-19T19:20:14.957Z"
   },
   {
    "duration": 15,
    "start_time": "2024-08-19T19:20:14.963Z"
   },
   {
    "duration": 126,
    "start_time": "2024-08-19T19:20:14.980Z"
   },
   {
    "duration": 66,
    "start_time": "2024-08-19T19:20:55.040Z"
   },
   {
    "duration": 6,
    "start_time": "2024-08-19T19:26:44.244Z"
   },
   {
    "duration": 6,
    "start_time": "2024-08-19T19:27:14.051Z"
   },
   {
    "duration": 5,
    "start_time": "2024-08-19T19:27:37.102Z"
   },
   {
    "duration": 8,
    "start_time": "2024-08-19T19:27:59.875Z"
   },
   {
    "duration": 84,
    "start_time": "2024-08-19T19:28:49.310Z"
   },
   {
    "duration": 1323,
    "start_time": "2024-08-19T19:29:05.998Z"
   },
   {
    "duration": 73,
    "start_time": "2024-08-19T19:29:07.324Z"
   },
   {
    "duration": 40,
    "start_time": "2024-08-19T19:29:07.399Z"
   },
   {
    "duration": 33,
    "start_time": "2024-08-19T19:29:07.442Z"
   },
   {
    "duration": 11,
    "start_time": "2024-08-19T19:29:07.479Z"
   },
   {
    "duration": 273,
    "start_time": "2024-08-19T19:29:07.491Z"
   },
   {
    "duration": 424,
    "start_time": "2024-08-19T19:29:07.766Z"
   },
   {
    "duration": 313,
    "start_time": "2024-08-19T19:29:08.192Z"
   },
   {
    "duration": 5427,
    "start_time": "2024-08-19T19:29:08.508Z"
   },
   {
    "duration": 9,
    "start_time": "2024-08-19T19:29:13.938Z"
   },
   {
    "duration": 5,
    "start_time": "2024-08-19T19:29:13.949Z"
   },
   {
    "duration": 8,
    "start_time": "2024-08-19T19:29:13.956Z"
   },
   {
    "duration": 39,
    "start_time": "2024-08-19T19:29:13.966Z"
   },
   {
    "duration": 227,
    "start_time": "2024-08-19T19:29:14.007Z"
   },
   {
    "duration": 157,
    "start_time": "2024-08-19T19:29:14.236Z"
   },
   {
    "duration": 302,
    "start_time": "2024-08-19T19:29:14.395Z"
   },
   {
    "duration": 13,
    "start_time": "2024-08-19T19:29:14.699Z"
   },
   {
    "duration": 545,
    "start_time": "2024-08-19T19:29:14.714Z"
   },
   {
    "duration": 9,
    "start_time": "2024-08-19T19:29:15.261Z"
   },
   {
    "duration": 515,
    "start_time": "2024-08-19T19:29:15.272Z"
   },
   {
    "duration": 4,
    "start_time": "2024-08-19T19:29:15.788Z"
   },
   {
    "duration": 46,
    "start_time": "2024-08-19T19:29:15.793Z"
   },
   {
    "duration": 4,
    "start_time": "2024-08-19T19:29:15.840Z"
   },
   {
    "duration": 15,
    "start_time": "2024-08-19T19:29:15.846Z"
   },
   {
    "duration": 16,
    "start_time": "2024-08-19T19:29:15.863Z"
   },
   {
    "duration": 34,
    "start_time": "2024-08-19T19:29:15.881Z"
   },
   {
    "duration": 14,
    "start_time": "2024-08-19T19:29:15.916Z"
   },
   {
    "duration": 13,
    "start_time": "2024-08-19T19:29:15.933Z"
   },
   {
    "duration": 6,
    "start_time": "2024-08-19T19:29:15.947Z"
   },
   {
    "duration": 53,
    "start_time": "2024-08-19T19:29:15.956Z"
   },
   {
    "duration": 135,
    "start_time": "2024-08-19T19:29:16.011Z"
   },
   {
    "duration": 4,
    "start_time": "2024-08-19T19:29:16.148Z"
   },
   {
    "duration": 20,
    "start_time": "2024-08-19T19:29:16.153Z"
   },
   {
    "duration": 480,
    "start_time": "2024-08-19T19:29:16.174Z"
   },
   {
    "duration": 9,
    "start_time": "2024-08-19T19:29:16.656Z"
   },
   {
    "duration": 9,
    "start_time": "2024-08-19T19:29:16.667Z"
   },
   {
    "duration": 527,
    "start_time": "2024-08-19T19:29:16.677Z"
   },
   {
    "duration": 11,
    "start_time": "2024-08-19T19:29:17.206Z"
   },
   {
    "duration": 9,
    "start_time": "2024-08-19T19:29:17.218Z"
   },
   {
    "duration": 79,
    "start_time": "2024-08-19T19:29:17.229Z"
   },
   {
    "duration": 6,
    "start_time": "2024-08-19T19:29:17.311Z"
   },
   {
    "duration": 7,
    "start_time": "2024-08-19T19:29:17.319Z"
   },
   {
    "duration": 18,
    "start_time": "2024-08-19T19:29:17.328Z"
   },
   {
    "duration": 6,
    "start_time": "2024-08-19T19:29:17.348Z"
   },
   {
    "duration": 16,
    "start_time": "2024-08-19T19:29:17.355Z"
   },
   {
    "duration": 91,
    "start_time": "2024-08-19T19:37:30.756Z"
   },
   {
    "duration": 1111,
    "start_time": "2024-08-19T19:37:41.765Z"
   },
   {
    "duration": 70,
    "start_time": "2024-08-19T19:37:42.878Z"
   },
   {
    "duration": 30,
    "start_time": "2024-08-19T19:37:42.949Z"
   },
   {
    "duration": 25,
    "start_time": "2024-08-19T19:37:42.981Z"
   },
   {
    "duration": 27,
    "start_time": "2024-08-19T19:37:43.008Z"
   },
   {
    "duration": 180,
    "start_time": "2024-08-19T19:37:43.037Z"
   },
   {
    "duration": 276,
    "start_time": "2024-08-19T19:37:43.219Z"
   },
   {
    "duration": 286,
    "start_time": "2024-08-19T19:37:43.505Z"
   },
   {
    "duration": 5230,
    "start_time": "2024-08-19T19:37:43.793Z"
   },
   {
    "duration": 8,
    "start_time": "2024-08-19T19:37:49.026Z"
   },
   {
    "duration": 4,
    "start_time": "2024-08-19T19:37:49.035Z"
   },
   {
    "duration": 15,
    "start_time": "2024-08-19T19:37:49.041Z"
   },
   {
    "duration": 9,
    "start_time": "2024-08-19T19:37:49.058Z"
   },
   {
    "duration": 264,
    "start_time": "2024-08-19T19:37:49.069Z"
   },
   {
    "duration": 172,
    "start_time": "2024-08-19T19:37:49.335Z"
   },
   {
    "duration": 318,
    "start_time": "2024-08-19T19:37:49.509Z"
   },
   {
    "duration": 13,
    "start_time": "2024-08-19T19:37:49.829Z"
   },
   {
    "duration": 637,
    "start_time": "2024-08-19T19:37:49.844Z"
   },
   {
    "duration": 10,
    "start_time": "2024-08-19T19:37:50.482Z"
   },
   {
    "duration": 524,
    "start_time": "2024-08-19T19:37:50.506Z"
   },
   {
    "duration": 4,
    "start_time": "2024-08-19T19:37:51.032Z"
   },
   {
    "duration": 34,
    "start_time": "2024-08-19T19:37:51.037Z"
   },
   {
    "duration": 71,
    "start_time": "2024-08-19T19:37:51.073Z"
   },
   {
    "duration": 20,
    "start_time": "2024-08-19T19:37:51.145Z"
   },
   {
    "duration": 16,
    "start_time": "2024-08-19T19:37:51.167Z"
   },
   {
    "duration": 20,
    "start_time": "2024-08-19T19:37:51.185Z"
   },
   {
    "duration": 28,
    "start_time": "2024-08-19T19:37:51.206Z"
   },
   {
    "duration": 14,
    "start_time": "2024-08-19T19:37:51.238Z"
   },
   {
    "duration": 6,
    "start_time": "2024-08-19T19:37:51.253Z"
   },
   {
    "duration": 6,
    "start_time": "2024-08-19T19:37:51.260Z"
   },
   {
    "duration": 66,
    "start_time": "2024-08-19T19:37:51.267Z"
   },
   {
    "duration": 5,
    "start_time": "2024-08-19T19:37:51.335Z"
   },
   {
    "duration": 10,
    "start_time": "2024-08-19T19:37:51.342Z"
   },
   {
    "duration": 482,
    "start_time": "2024-08-19T19:37:51.355Z"
   },
   {
    "duration": 8,
    "start_time": "2024-08-19T19:37:51.840Z"
   },
   {
    "duration": 31,
    "start_time": "2024-08-19T19:37:51.850Z"
   },
   {
    "duration": 476,
    "start_time": "2024-08-19T19:37:51.883Z"
   },
   {
    "duration": 8,
    "start_time": "2024-08-19T19:37:52.361Z"
   },
   {
    "duration": 10,
    "start_time": "2024-08-19T19:37:52.371Z"
   },
   {
    "duration": 60,
    "start_time": "2024-08-19T19:37:52.382Z"
   },
   {
    "duration": 5,
    "start_time": "2024-08-19T19:37:52.444Z"
   },
   {
    "duration": 11,
    "start_time": "2024-08-19T19:37:52.451Z"
   },
   {
    "duration": 5,
    "start_time": "2024-08-19T19:37:52.464Z"
   },
   {
    "duration": 36,
    "start_time": "2024-08-19T19:37:52.471Z"
   },
   {
    "duration": 10,
    "start_time": "2024-08-19T19:37:52.509Z"
   },
   {
    "duration": 1234,
    "start_time": "2024-08-19T20:04:51.533Z"
   },
   {
    "duration": 74,
    "start_time": "2024-08-19T20:04:52.769Z"
   },
   {
    "duration": 29,
    "start_time": "2024-08-19T20:04:52.845Z"
   },
   {
    "duration": 27,
    "start_time": "2024-08-19T20:04:52.876Z"
   },
   {
    "duration": 10,
    "start_time": "2024-08-19T20:04:52.905Z"
   },
   {
    "duration": 199,
    "start_time": "2024-08-19T20:04:52.916Z"
   },
   {
    "duration": 273,
    "start_time": "2024-08-19T20:04:53.117Z"
   },
   {
    "duration": 262,
    "start_time": "2024-08-19T20:04:53.391Z"
   },
   {
    "duration": 5238,
    "start_time": "2024-08-19T20:04:53.655Z"
   },
   {
    "duration": 8,
    "start_time": "2024-08-19T20:04:58.896Z"
   },
   {
    "duration": 5,
    "start_time": "2024-08-19T20:04:58.906Z"
   },
   {
    "duration": 14,
    "start_time": "2024-08-19T20:04:58.912Z"
   },
   {
    "duration": 18,
    "start_time": "2024-08-19T20:04:58.928Z"
   },
   {
    "duration": 201,
    "start_time": "2024-08-19T20:04:58.947Z"
   },
   {
    "duration": 148,
    "start_time": "2024-08-19T20:04:59.150Z"
   },
   {
    "duration": 361,
    "start_time": "2024-08-19T20:04:59.300Z"
   },
   {
    "duration": 9,
    "start_time": "2024-08-19T20:04:59.663Z"
   },
   {
    "duration": 521,
    "start_time": "2024-08-19T20:04:59.673Z"
   },
   {
    "duration": 9,
    "start_time": "2024-08-19T20:05:00.196Z"
   },
   {
    "duration": 540,
    "start_time": "2024-08-19T20:05:00.206Z"
   },
   {
    "duration": 3,
    "start_time": "2024-08-19T20:05:00.748Z"
   },
   {
    "duration": 41,
    "start_time": "2024-08-19T20:05:00.753Z"
   },
   {
    "duration": 36,
    "start_time": "2024-08-19T20:05:00.795Z"
   },
   {
    "duration": 38,
    "start_time": "2024-08-19T20:05:00.832Z"
   },
   {
    "duration": 26,
    "start_time": "2024-08-19T20:05:00.872Z"
   },
   {
    "duration": 28,
    "start_time": "2024-08-19T20:05:00.900Z"
   },
   {
    "duration": 26,
    "start_time": "2024-08-19T20:05:00.930Z"
   },
   {
    "duration": 15,
    "start_time": "2024-08-19T20:05:00.961Z"
   },
   {
    "duration": 26,
    "start_time": "2024-08-19T20:05:00.977Z"
   },
   {
    "duration": 36,
    "start_time": "2024-08-19T20:05:01.005Z"
   },
   {
    "duration": 82,
    "start_time": "2024-08-19T20:05:01.043Z"
   },
   {
    "duration": 4,
    "start_time": "2024-08-19T20:05:01.126Z"
   },
   {
    "duration": 20,
    "start_time": "2024-08-19T20:05:01.132Z"
   },
   {
    "duration": 500,
    "start_time": "2024-08-19T20:05:01.154Z"
   },
   {
    "duration": 10,
    "start_time": "2024-08-19T20:05:01.656Z"
   },
   {
    "duration": 10,
    "start_time": "2024-08-19T20:05:01.668Z"
   },
   {
    "duration": 507,
    "start_time": "2024-08-19T20:05:01.680Z"
   },
   {
    "duration": 9,
    "start_time": "2024-08-19T20:05:02.189Z"
   },
   {
    "duration": 8,
    "start_time": "2024-08-19T20:05:02.199Z"
   },
   {
    "duration": 69,
    "start_time": "2024-08-19T20:05:02.209Z"
   },
   {
    "duration": 6,
    "start_time": "2024-08-19T20:05:02.280Z"
   },
   {
    "duration": 34,
    "start_time": "2024-08-19T20:05:02.288Z"
   },
   {
    "duration": 6,
    "start_time": "2024-08-19T20:05:02.324Z"
   },
   {
    "duration": 12,
    "start_time": "2024-08-19T20:05:02.332Z"
   },
   {
    "duration": 30,
    "start_time": "2024-08-19T20:05:02.346Z"
   }
  ],
  "kernelspec": {
   "display_name": "Python 3 (ipykernel)",
   "language": "python",
   "name": "python3"
  },
  "language_info": {
   "codemirror_mode": {
    "name": "ipython",
    "version": 3
   },
   "file_extension": ".py",
   "mimetype": "text/x-python",
   "name": "python",
   "nbconvert_exporter": "python",
   "pygments_lexer": "ipython3",
   "version": "3.9.5"
  },
  "toc": {
   "base_numbering": 1,
   "nav_menu": {},
   "number_sections": true,
   "sideBar": true,
   "skip_h1_title": true,
   "title_cell": "Table of Contents",
   "title_sidebar": "Contents",
   "toc_cell": false,
   "toc_position": {
    "height": "calc(100% - 180px)",
    "left": "10px",
    "top": "150px",
    "width": "165px"
   },
   "toc_section_display": true,
   "toc_window_display": true
  }
 },
 "nbformat": 4,
 "nbformat_minor": 5
}
